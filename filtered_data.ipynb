{
 "cells": [
  {
   "cell_type": "code",
   "execution_count": 19,
   "metadata": {},
   "outputs": [],
   "source": [
    "from fastai.vision.all import *\n",
    "import timm\n",
    "from sklearn.metrics import roc_auc_score\n",
    "import cv2\n",
    "from sklearn.model_selection import StratifiedKFold, KFold\n",
    "from sklearn.model_selection import train_test_split"
   ]
  },
  {
   "cell_type": "code",
   "execution_count": 20,
   "metadata": {},
   "outputs": [
    {
     "data": {
      "text/plain": [
       "(#10) [Path('kfold.ipynb'),Path('res50.ipynb'),Path('data'),Path('kf_sesresnext.ipynb'),Path('models'),Path('initial.ipynb'),Path('seti-breakthrough-listen.zip'),Path('.ipynb_checkpoints'),Path('filtered_data.ipynb'),Path('data_extract.ipynb')]"
      ]
     },
     "execution_count": 20,
     "metadata": {},
     "output_type": "execute_result"
    }
   ],
   "source": [
    "path = Path('/home/azaidi/Desktop/kaggle/seti')\n",
    "Path.BASE_PATH = path\n",
    "path.ls()"
   ]
  },
  {
   "cell_type": "code",
   "execution_count": 21,
   "metadata": {},
   "outputs": [
    {
     "data": {
      "text/plain": [
       "(#17) [Path('data/train/9'),Path('data/train/e'),Path('data/train/3'),Path('data/train/5'),Path('data/train/7'),Path('data/train/d'),Path('data/train/b'),Path('data/train/1'),Path('data/train/a'),Path('data/train/0')...]"
      ]
     },
     "execution_count": 21,
     "metadata": {},
     "output_type": "execute_result"
    }
   ],
   "source": [
    "(path/'data/train').ls()"
   ]
  },
  {
   "cell_type": "code",
   "execution_count": 22,
   "metadata": {},
   "outputs": [
    {
     "data": {
      "text/plain": [
       "(#3139) [Path('data/train/9/9f0dff2cd2b3.npy'),Path('data/train/9/91af44908241.npy'),Path('data/train/9/923ed9e2e4d8.npy'),Path('data/train/9/990f15496627.npy'),Path('data/train/9/92a91b53e5ee.npy'),Path('data/train/9/9567d242de97.npy'),Path('data/train/9/9f5cb9d7a0d6.npy'),Path('data/train/9/9aea15089923.npy'),Path('data/train/9/9deb1a9a72a5.npy'),Path('data/train/9/9e26f4ef6fc6.npy')...]"
      ]
     },
     "execution_count": 22,
     "metadata": {},
     "output_type": "execute_result"
    }
   ],
   "source": [
    "(path/'data/train').ls()[0].ls()"
   ]
  },
  {
   "cell_type": "code",
   "execution_count": 23,
   "metadata": {},
   "outputs": [
    {
     "data": {
      "text/plain": [
       "(50165, 2)"
      ]
     },
     "execution_count": 23,
     "metadata": {},
     "output_type": "execute_result"
    }
   ],
   "source": [
    "train_df = pd.read_csv(path/'data/train_labels.csv')\n",
    "sub_df = pd.read_csv(path/'data/sample_submission.csv')\n",
    "train_df.shape"
   ]
  },
  {
   "cell_type": "code",
   "execution_count": 24,
   "metadata": {},
   "outputs": [],
   "source": [
    "data_path = path/'data'\n",
    "train_df['path'] = train_df['id'].apply(lambda x: str(data_path/'train'/x[0]/x)+'.npy')"
   ]
  },
  {
   "cell_type": "code",
   "execution_count": 25,
   "metadata": {},
   "outputs": [
    {
     "data": {
      "text/html": [
       "<div>\n",
       "<style scoped>\n",
       "    .dataframe tbody tr th:only-of-type {\n",
       "        vertical-align: middle;\n",
       "    }\n",
       "\n",
       "    .dataframe tbody tr th {\n",
       "        vertical-align: top;\n",
       "    }\n",
       "\n",
       "    .dataframe thead th {\n",
       "        text-align: right;\n",
       "    }\n",
       "</style>\n",
       "<table border=\"1\" class=\"dataframe\">\n",
       "  <thead>\n",
       "    <tr style=\"text-align: right;\">\n",
       "      <th></th>\n",
       "      <th>id</th>\n",
       "      <th>target</th>\n",
       "      <th>path</th>\n",
       "    </tr>\n",
       "  </thead>\n",
       "  <tbody>\n",
       "    <tr>\n",
       "      <th>0</th>\n",
       "      <td>00034abb3629</td>\n",
       "      <td>0</td>\n",
       "      <td>/home/azaidi/Desktop/kaggle/seti/data/train/0/00034abb3629.npy</td>\n",
       "    </tr>\n",
       "  </tbody>\n",
       "</table>\n",
       "</div>"
      ],
      "text/plain": [
       "             id  target  \\\n",
       "0  00034abb3629       0   \n",
       "\n",
       "                                                             path  \n",
       "0  /home/azaidi/Desktop/kaggle/seti/data/train/0/00034abb3629.npy  "
      ]
     },
     "execution_count": 25,
     "metadata": {},
     "output_type": "execute_result"
    }
   ],
   "source": [
    "train_df.head(1)"
   ]
  },
  {
   "cell_type": "code",
   "execution_count": 26,
   "metadata": {},
   "outputs": [],
   "source": [
    "def kfold_idxs(df, n_splits):\n",
    "    train_idx, val_idx = [], []\n",
    "    skf = KFold(n_splits=n_splits, shuffle=True)\n",
    "    for train_index, valid_index in skf.split(df.path, df.target):\n",
    "        train_idx.append(train_index)\n",
    "        val_idx.append(valid_index)\n",
    "    return train_idx, val_idx\n",
    "\n",
    "def get_val_idxs(df, n_splits):\n",
    "    _, val_idxs = kfold_idxs(df, n_splits)\n",
    "    return val_idxs"
   ]
  },
  {
   "cell_type": "code",
   "execution_count": 27,
   "metadata": {},
   "outputs": [],
   "source": [
    "#v_idxs = get_val_idxs(train_df, 4)\n",
    "#len(v_idxs)"
   ]
  },
  {
   "cell_type": "code",
   "execution_count": 28,
   "metadata": {},
   "outputs": [],
   "source": [
    "class SETIDataset:\n",
    "    def __init__(self, df):\n",
    "        self.df = df\n",
    "        \n",
    "    def __len__(self):\n",
    "        return len(self.df)\n",
    "\n",
    "    def __getitem__(self, index):\n",
    "        label = self.df.iloc[index].target\n",
    "        filename = self.df.iloc[index].path\n",
    "        data = np.load(filename).astype(np.float32)\n",
    "        \n",
    "        #this will return tensor of 256x819\n",
    "        data = data[[0,2,4],:, :]\n",
    "        \n",
    "        #if line above commented out....\n",
    "        #this will return a 256x1638 tensor per sample\n",
    "        data = data.astype(np.float32)\n",
    "        data = np.vstack(data).transpose((1, 0))\n",
    "        \n",
    "        #this will get you a 512x512 tensor per sample\n",
    "        #data = np.vstack(data).transpose((1, 0))\n",
    "        #data = cv2.resize(data, dsize=(512,512))     \n",
    "        \n",
    "        data_tensor = torch.tensor(data).float().unsqueeze(0)\n",
    "\n",
    "        return (data_tensor, torch.tensor(label))\n",
    "        #return data"
   ]
  },
  {
   "cell_type": "code",
   "execution_count": 40,
   "metadata": {},
   "outputs": [],
   "source": [
    "t_df, v_df = train_test_split(train_df, test_size=0.1)"
   ]
  },
  {
   "cell_type": "code",
   "execution_count": 30,
   "metadata": {},
   "outputs": [
    {
     "data": {
      "text/plain": [
       "torch.Size([1, 256, 819])"
      ]
     },
     "execution_count": 30,
     "metadata": {},
     "output_type": "execute_result"
    }
   ],
   "source": [
    "t_ds = SETIDataset(t_df)\n",
    "t_ds[0][0].shape"
   ]
  },
  {
   "cell_type": "code",
   "execution_count": 13,
   "metadata": {},
   "outputs": [],
   "source": [
    "#v_idxs[0].shape, train_df.shape"
   ]
  },
  {
   "cell_type": "code",
   "execution_count": 13,
   "metadata": {},
   "outputs": [],
   "source": [
    "#train_df.iloc[v_idxs[0]].shape, train_df.drop(v_idxs[0]).shape"
   ]
  },
  {
   "cell_type": "code",
   "execution_count": 14,
   "metadata": {},
   "outputs": [],
   "source": [
    "#train_df.shape[0] == (train_df.iloc[v_idxs[0]].shape[0] + train_df.drop(v_idxs[0]).shape[0])"
   ]
  },
  {
   "cell_type": "code",
   "execution_count": 31,
   "metadata": {},
   "outputs": [],
   "source": [
    "def get_dfs(df, v_idxs, fold):\n",
    "    t_df = df.iloc[v_idxs[fold]].reset_index()\n",
    "    v_df = df.drop(v_idxs[fold]).reset_index()\n",
    "    return t_df, v_df"
   ]
  },
  {
   "cell_type": "code",
   "execution_count": 32,
   "metadata": {},
   "outputs": [],
   "source": [
    "#t_df, v_df = get_dfs(train_df, v_idxs, 0)\n",
    "#len(t_df), len(v_df)"
   ]
  },
  {
   "cell_type": "code",
   "execution_count": 33,
   "metadata": {},
   "outputs": [],
   "source": [
    "#t_ds = SETIDataset(t_df)\n",
    "#v_ds = SETIDataset(v_df)"
   ]
  },
  {
   "cell_type": "code",
   "execution_count": 34,
   "metadata": {},
   "outputs": [],
   "source": [
    "#t_ds[0][0].shape"
   ]
  },
  {
   "cell_type": "code",
   "execution_count": 35,
   "metadata": {},
   "outputs": [],
   "source": [
    "#sample = np.load(train_df.path[0])\n",
    "#sample.shape"
   ]
  },
  {
   "cell_type": "code",
   "execution_count": 20,
   "metadata": {},
   "outputs": [],
   "source": [
    "#np.vstack(sample).shape, np.vstack(sample).transpose((1,0)).shape"
   ]
  },
  {
   "cell_type": "code",
   "execution_count": 21,
   "metadata": {},
   "outputs": [],
   "source": [
    "#bs = 64\n",
    "#train_dl = torch.utils.data.DataLoader(t_ds, batch_size=bs,num_workers=8)\n",
    "#valid_dl = torch.utils.data.DataLoader(v_ds, batch_size=bs,num_workers=8)"
   ]
  },
  {
   "cell_type": "code",
   "execution_count": 22,
   "metadata": {},
   "outputs": [],
   "source": [
    "#len(train_dl), len(valid_dl)"
   ]
  },
  {
   "cell_type": "code",
   "execution_count": 23,
   "metadata": {},
   "outputs": [],
   "source": [
    "#dls = DataLoaders(train_dl, valid_dl)"
   ]
  },
  {
   "cell_type": "code",
   "execution_count": 24,
   "metadata": {},
   "outputs": [],
   "source": [
    "#batch = next(iter(dls.train))"
   ]
  },
  {
   "cell_type": "code",
   "execution_count": 25,
   "metadata": {},
   "outputs": [],
   "source": [
    "#batch[0].shape"
   ]
  },
  {
   "cell_type": "code",
   "execution_count": 36,
   "metadata": {},
   "outputs": [],
   "source": [
    "def roc_auc(preds,targ):\n",
    "    try: return roc_auc_score(targ.cpu(),preds.squeeze().cpu())\n",
    "    except: return 0.5"
   ]
  },
  {
   "cell_type": "code",
   "execution_count": 37,
   "metadata": {},
   "outputs": [],
   "source": [
    "from timm import create_model\n",
    "from fastai.vision.learner import _update_first_layer\n",
    "\n",
    "def create_timm_body(arch:str, pretrained=True, cut=None, n_in=3):\n",
    "    \"Creates a body from any model in the `timm` library.\"\n",
    "    model = create_model(arch, pretrained=pretrained, num_classes=0, global_pool='')\n",
    "    _update_first_layer(model, n_in, pretrained)\n",
    "    if cut is None:\n",
    "        ll = list(enumerate(model.children()))\n",
    "        cut = next(i for i,o in reversed(ll) if has_pool_type(o))\n",
    "    if isinstance(cut, int): return nn.Sequential(*list(model.children())[:cut])\n",
    "    elif callable(cut): return cut(model)\n",
    "    else: raise NamedError(\"cut must be either integer or function\")\n",
    "        \n",
    "def create_timm_model(arch:str, n_out, cut=None, pretrained=True, n_in=3, init=nn.init.kaiming_normal_, custom_head=None,\n",
    "                     concat_pool=True, **kwargs):\n",
    "    \"Create custom architecture using `arch`, `n_in` and `n_out` from the `timm` library\"\n",
    "    body = create_timm_body(arch, pretrained, None, n_in)\n",
    "    if custom_head is None:\n",
    "        nf = num_features_model(nn.Sequential(*body.children()))\n",
    "        head = create_head(nf, n_out, concat_pool=concat_pool, **kwargs)\n",
    "    else: head = custom_head\n",
    "    model = nn.Sequential(body, head)\n",
    "    if init is not None: apply_init(model[1], init)\n",
    "    return model.to('cuda')\n",
    "\n",
    "def timm_learner(dls, arch:str, loss_func=None, pretrained=True, cut=None, splitter=None,\n",
    "                y_range=None, config=None, n_in=3, n_out=None, normalize=True, **kwargs):\n",
    "    \"Build a convnet style learner from `dls` and `arch` using the `timm` library\"\n",
    "    if config is None: config = {}\n",
    "    if n_out is None: n_out = get_c(dls)\n",
    "    assert n_out, \"`n_out` is not defined, and could not be inferred from data, set `dls.c` or pass `n_out`\"\n",
    "    if y_range is None and 'y_range' in config: y_range = config.pop('y_range')\n",
    "    model = create_timm_model(arch, n_out, default_split, pretrained, n_in=n_in, y_range=y_range, **config)\n",
    "    learn = Learner(dls, model, loss_func=loss_func, splitter=default_split, **kwargs)\n",
    "    if pretrained: learn.freeze()\n",
    "    return learn"
   ]
  },
  {
   "cell_type": "code",
   "execution_count": 41,
   "metadata": {},
   "outputs": [],
   "source": [
    "#t_df, v_df = get_dfs(train_df, v_idxs, 0)\n",
    "t_ds = SETIDataset(t_df)\n",
    "v_ds = SETIDataset(v_df)\n",
    "bs = 64\n",
    "train_dl = torch.utils.data.DataLoader(t_ds, batch_size=bs,num_workers=8)\n",
    "valid_dl = torch.utils.data.DataLoader(v_ds, batch_size=bs,num_workers=8)\n",
    "dls = DataLoaders(train_dl, valid_dl)"
   ]
  },
  {
   "cell_type": "code",
   "execution_count": null,
   "metadata": {},
   "outputs": [
    {
     "data": {
      "text/html": [
       "\n",
       "    <div>\n",
       "        <style>\n",
       "            /* Turns off some styling */\n",
       "            progress {\n",
       "                /* gets rid of default border in Firefox and Opera. */\n",
       "                border: none;\n",
       "                /* Needs to be in here for Safari polyfill so background images work as expected. */\n",
       "                background-size: auto;\n",
       "            }\n",
       "            .progress-bar-interrupted, .progress-bar-interrupted::-webkit-progress-bar {\n",
       "                background: #F44336;\n",
       "            }\n",
       "        </style>\n",
       "      <progress value='7' class='' max='10' style='width:300px; height:20px; vertical-align: middle;'></progress>\n",
       "      70.00% [7/10 31:21<13:26]\n",
       "    </div>\n",
       "    \n",
       "<table border=\"1\" class=\"dataframe\">\n",
       "  <thead>\n",
       "    <tr style=\"text-align: left;\">\n",
       "      <th>epoch</th>\n",
       "      <th>train_loss</th>\n",
       "      <th>valid_loss</th>\n",
       "      <th>roc_auc</th>\n",
       "      <th>time</th>\n",
       "    </tr>\n",
       "  </thead>\n",
       "  <tbody>\n",
       "    <tr>\n",
       "      <td>0</td>\n",
       "      <td>0.134574</td>\n",
       "      <td>0.177626</td>\n",
       "      <td>0.947199</td>\n",
       "      <td>04:36</td>\n",
       "    </tr>\n",
       "    <tr>\n",
       "      <td>1</td>\n",
       "      <td>0.121732</td>\n",
       "      <td>0.169096</td>\n",
       "      <td>0.960106</td>\n",
       "      <td>04:27</td>\n",
       "    </tr>\n",
       "    <tr>\n",
       "      <td>2</td>\n",
       "      <td>0.110737</td>\n",
       "      <td>0.172391</td>\n",
       "      <td>0.953194</td>\n",
       "      <td>04:27</td>\n",
       "    </tr>\n",
       "    <tr>\n",
       "      <td>3</td>\n",
       "      <td>0.105148</td>\n",
       "      <td>0.184568</td>\n",
       "      <td>0.961755</td>\n",
       "      <td>04:27</td>\n",
       "    </tr>\n",
       "    <tr>\n",
       "      <td>4</td>\n",
       "      <td>0.096440</td>\n",
       "      <td>0.089841</td>\n",
       "      <td>0.964184</td>\n",
       "      <td>04:27</td>\n",
       "    </tr>\n",
       "    <tr>\n",
       "      <td>5</td>\n",
       "      <td>0.096426</td>\n",
       "      <td>0.120201</td>\n",
       "      <td>0.968496</td>\n",
       "      <td>04:27</td>\n",
       "    </tr>\n",
       "    <tr>\n",
       "      <td>6</td>\n",
       "      <td>0.090861</td>\n",
       "      <td>0.139835</td>\n",
       "      <td>0.963792</td>\n",
       "      <td>04:27</td>\n",
       "    </tr>\n",
       "  </tbody>\n",
       "</table><p>\n",
       "\n",
       "    <div>\n",
       "        <style>\n",
       "            /* Turns off some styling */\n",
       "            progress {\n",
       "                /* gets rid of default border in Firefox and Opera. */\n",
       "                border: none;\n",
       "                /* Needs to be in here for Safari polyfill so background images work as expected. */\n",
       "                background-size: auto;\n",
       "            }\n",
       "            .progress-bar-interrupted, .progress-bar-interrupted::-webkit-progress-bar {\n",
       "                background: #F44336;\n",
       "            }\n",
       "        </style>\n",
       "      <progress value='501' class='' max='706' style='width:300px; height:20px; vertical-align: middle;'></progress>\n",
       "      70.96% [501/706 03:02<01:14 0.0768]\n",
       "    </div>\n",
       "    "
      ],
      "text/plain": [
       "<IPython.core.display.HTML object>"
      ]
     },
     "metadata": {},
     "output_type": "display_data"
    },
    {
     "name": "stdout",
     "output_type": "stream",
     "text": [
      "Epoch 2: reducing lr to 0.005\n",
      "Epoch 3: reducing lr to 0.005\n",
      "Epoch 5: reducing lr to 0.005\n",
      "Epoch 6: reducing lr to 0.005\n"
     ]
    }
   ],
   "source": [
    "learn = timm_learner(dls, 'resnet50', pretrained=True,\n",
    "                     n_in=1,n_out=1,metrics=[roc_auc], \n",
    "                     opt_func=ranger,\n",
    "                     loss_func=BCEWithLogitsLossFlat()).to_fp16()\n",
    "learn.fit_flat_cos(10, 5e-2, wd=0.1, cbs=[ReduceLROnPlateau(), GradientClip()])"
   ]
  },
  {
   "cell_type": "code",
   "execution_count": 22,
   "metadata": {},
   "outputs": [
    {
     "data": {
      "text/html": [
       "<table border=\"1\" class=\"dataframe\">\n",
       "  <thead>\n",
       "    <tr style=\"text-align: left;\">\n",
       "      <th>epoch</th>\n",
       "      <th>train_loss</th>\n",
       "      <th>valid_loss</th>\n",
       "      <th>roc_auc</th>\n",
       "      <th>time</th>\n",
       "    </tr>\n",
       "  </thead>\n",
       "  <tbody>\n",
       "    <tr>\n",
       "      <td>0</td>\n",
       "      <td>0.201167</td>\n",
       "      <td>0.266256</td>\n",
       "      <td>0.899883</td>\n",
       "      <td>04:28</td>\n",
       "    </tr>\n",
       "    <tr>\n",
       "      <td>1</td>\n",
       "      <td>0.145228</td>\n",
       "      <td>0.122883</td>\n",
       "      <td>0.945317</td>\n",
       "      <td>04:28</td>\n",
       "    </tr>\n",
       "    <tr>\n",
       "      <td>2</td>\n",
       "      <td>0.117852</td>\n",
       "      <td>0.183778</td>\n",
       "      <td>0.901145</td>\n",
       "      <td>04:28</td>\n",
       "    </tr>\n",
       "    <tr>\n",
       "      <td>3</td>\n",
       "      <td>0.108986</td>\n",
       "      <td>0.173399</td>\n",
       "      <td>0.943812</td>\n",
       "      <td>04:28</td>\n",
       "    </tr>\n",
       "    <tr>\n",
       "      <td>4</td>\n",
       "      <td>0.099247</td>\n",
       "      <td>0.090115</td>\n",
       "      <td>0.963015</td>\n",
       "      <td>04:27</td>\n",
       "    </tr>\n",
       "    <tr>\n",
       "      <td>5</td>\n",
       "      <td>0.091598</td>\n",
       "      <td>0.138657</td>\n",
       "      <td>0.958293</td>\n",
       "      <td>04:27</td>\n",
       "    </tr>\n",
       "    <tr>\n",
       "      <td>6</td>\n",
       "      <td>0.092004</td>\n",
       "      <td>0.103788</td>\n",
       "      <td>0.959678</td>\n",
       "      <td>04:27</td>\n",
       "    </tr>\n",
       "    <tr>\n",
       "      <td>7</td>\n",
       "      <td>0.076120</td>\n",
       "      <td>0.093534</td>\n",
       "      <td>0.964429</td>\n",
       "      <td>04:28</td>\n",
       "    </tr>\n",
       "    <tr>\n",
       "      <td>8</td>\n",
       "      <td>0.056806</td>\n",
       "      <td>0.086859</td>\n",
       "      <td>0.968227</td>\n",
       "      <td>04:28</td>\n",
       "    </tr>\n",
       "    <tr>\n",
       "      <td>9</td>\n",
       "      <td>0.035158</td>\n",
       "      <td>0.087190</td>\n",
       "      <td>0.970368</td>\n",
       "      <td>04:28</td>\n",
       "    </tr>\n",
       "  </tbody>\n",
       "</table>"
      ],
      "text/plain": [
       "<IPython.core.display.HTML object>"
      ]
     },
     "metadata": {},
     "output_type": "display_data"
    },
    {
     "name": "stdout",
     "output_type": "stream",
     "text": [
      "Epoch 2: reducing lr to 0.005\n",
      "Epoch 3: reducing lr to 0.005\n",
      "Epoch 5: reducing lr to 0.005\n",
      "Epoch 6: reducing lr to 0.005\n",
      "Epoch 7: reducing lr to 0.004531926864186965\n",
      "Epoch 9: reducing lr to 1.0138444236362787e-07\n"
     ]
    }
   ],
   "source": [
    "learn = timm_learner(dls, 'tv_resnet101', pretrained=True,\n",
    "                     n_in=1,n_out=1,metrics=[roc_auc], \n",
    "                     opt_func=ranger,\n",
    "                     loss_func=BCEWithLogitsLossFlat()).to_fp16()\n",
    "learn.fit_flat_cos(10, 5e-2, wd=0.1, cbs=[ReduceLROnPlateau(), GradientClip()])"
   ]
  },
  {
   "cell_type": "code",
   "execution_count": 21,
   "metadata": {},
   "outputs": [
    {
     "data": {
      "text/html": [
       "<table border=\"1\" class=\"dataframe\">\n",
       "  <thead>\n",
       "    <tr style=\"text-align: left;\">\n",
       "      <th>epoch</th>\n",
       "      <th>train_loss</th>\n",
       "      <th>valid_loss</th>\n",
       "      <th>roc_auc</th>\n",
       "      <th>time</th>\n",
       "    </tr>\n",
       "  </thead>\n",
       "  <tbody>\n",
       "    <tr>\n",
       "      <td>0</td>\n",
       "      <td>0.177263</td>\n",
       "      <td>0.127996</td>\n",
       "      <td>0.926707</td>\n",
       "      <td>02:55</td>\n",
       "    </tr>\n",
       "    <tr>\n",
       "      <td>1</td>\n",
       "      <td>0.122783</td>\n",
       "      <td>0.144048</td>\n",
       "      <td>0.948908</td>\n",
       "      <td>02:55</td>\n",
       "    </tr>\n",
       "    <tr>\n",
       "      <td>2</td>\n",
       "      <td>0.107837</td>\n",
       "      <td>0.096660</td>\n",
       "      <td>0.963208</td>\n",
       "      <td>02:55</td>\n",
       "    </tr>\n",
       "    <tr>\n",
       "      <td>3</td>\n",
       "      <td>0.094848</td>\n",
       "      <td>0.101284</td>\n",
       "      <td>0.958637</td>\n",
       "      <td>02:55</td>\n",
       "    </tr>\n",
       "    <tr>\n",
       "      <td>4</td>\n",
       "      <td>0.088309</td>\n",
       "      <td>0.079266</td>\n",
       "      <td>0.966229</td>\n",
       "      <td>02:55</td>\n",
       "    </tr>\n",
       "    <tr>\n",
       "      <td>5</td>\n",
       "      <td>0.081668</td>\n",
       "      <td>0.085433</td>\n",
       "      <td>0.964112</td>\n",
       "      <td>02:55</td>\n",
       "    </tr>\n",
       "    <tr>\n",
       "      <td>6</td>\n",
       "      <td>0.078821</td>\n",
       "      <td>0.125206</td>\n",
       "      <td>0.968242</td>\n",
       "      <td>02:55</td>\n",
       "    </tr>\n",
       "    <tr>\n",
       "      <td>7</td>\n",
       "      <td>0.066847</td>\n",
       "      <td>0.079471</td>\n",
       "      <td>0.970319</td>\n",
       "      <td>02:55</td>\n",
       "    </tr>\n",
       "    <tr>\n",
       "      <td>8</td>\n",
       "      <td>0.053981</td>\n",
       "      <td>0.079991</td>\n",
       "      <td>0.972431</td>\n",
       "      <td>02:55</td>\n",
       "    </tr>\n",
       "    <tr>\n",
       "      <td>9</td>\n",
       "      <td>0.031727</td>\n",
       "      <td>0.072140</td>\n",
       "      <td>0.972015</td>\n",
       "      <td>02:55</td>\n",
       "    </tr>\n",
       "  </tbody>\n",
       "</table>"
      ],
      "text/plain": [
       "<IPython.core.display.HTML object>"
      ]
     },
     "metadata": {},
     "output_type": "display_data"
    },
    {
     "name": "stdout",
     "output_type": "stream",
     "text": [
      "Epoch 1: reducing lr to 0.005\n",
      "Epoch 3: reducing lr to 0.005\n",
      "Epoch 5: reducing lr to 0.005\n",
      "Epoch 6: reducing lr to 0.005\n",
      "Epoch 7: reducing lr to 0.004531926864186965\n",
      "Epoch 8: reducing lr to 0.0017427491811060811\n"
     ]
    }
   ],
   "source": [
    "learn = timm_learner(dls, 'tv_resnet50', pretrained=True,\n",
    "                     n_in=1,n_out=1,metrics=[roc_auc], \n",
    "                     opt_func=ranger,\n",
    "                     loss_func=BCEWithLogitsLossFlat()).to_fp16()\n",
    "learn.fit_flat_cos(10, 5e-2, wd=0.1, cbs=[ReduceLROnPlateau(), GradientClip()])"
   ]
  },
  {
   "cell_type": "code",
   "execution_count": 23,
   "metadata": {},
   "outputs": [
    {
     "name": "stderr",
     "output_type": "stream",
     "text": [
      "Downloading: \"https://github.com/rwightman/pytorch-image-models/releases/download/v0.1-weights/resnetblur50-84f4748f.pth\" to /home/azaidi/.cache/torch/hub/checkpoints/resnetblur50-84f4748f.pth\n"
     ]
    },
    {
     "data": {
      "text/html": [
       "<table border=\"1\" class=\"dataframe\">\n",
       "  <thead>\n",
       "    <tr style=\"text-align: left;\">\n",
       "      <th>epoch</th>\n",
       "      <th>train_loss</th>\n",
       "      <th>valid_loss</th>\n",
       "      <th>roc_auc</th>\n",
       "      <th>time</th>\n",
       "    </tr>\n",
       "  </thead>\n",
       "  <tbody>\n",
       "    <tr>\n",
       "      <td>0</td>\n",
       "      <td>0.160097</td>\n",
       "      <td>0.134901</td>\n",
       "      <td>0.914610</td>\n",
       "      <td>03:24</td>\n",
       "    </tr>\n",
       "    <tr>\n",
       "      <td>1</td>\n",
       "      <td>0.102755</td>\n",
       "      <td>0.103710</td>\n",
       "      <td>0.956087</td>\n",
       "      <td>03:20</td>\n",
       "    </tr>\n",
       "    <tr>\n",
       "      <td>2</td>\n",
       "      <td>0.084171</td>\n",
       "      <td>0.085815</td>\n",
       "      <td>0.962932</td>\n",
       "      <td>03:20</td>\n",
       "    </tr>\n",
       "    <tr>\n",
       "      <td>3</td>\n",
       "      <td>0.086908</td>\n",
       "      <td>0.161052</td>\n",
       "      <td>0.952695</td>\n",
       "      <td>03:20</td>\n",
       "    </tr>\n",
       "    <tr>\n",
       "      <td>4</td>\n",
       "      <td>0.071690</td>\n",
       "      <td>0.072737</td>\n",
       "      <td>0.968739</td>\n",
       "      <td>03:21</td>\n",
       "    </tr>\n",
       "    <tr>\n",
       "      <td>5</td>\n",
       "      <td>0.070645</td>\n",
       "      <td>0.076603</td>\n",
       "      <td>0.968740</td>\n",
       "      <td>03:21</td>\n",
       "    </tr>\n",
       "    <tr>\n",
       "      <td>6</td>\n",
       "      <td>0.061242</td>\n",
       "      <td>0.123135</td>\n",
       "      <td>0.965731</td>\n",
       "      <td>03:20</td>\n",
       "    </tr>\n",
       "    <tr>\n",
       "      <td>7</td>\n",
       "      <td>0.050773</td>\n",
       "      <td>0.093104</td>\n",
       "      <td>0.964890</td>\n",
       "      <td>03:20</td>\n",
       "    </tr>\n",
       "    <tr>\n",
       "      <td>8</td>\n",
       "      <td>0.043181</td>\n",
       "      <td>0.070830</td>\n",
       "      <td>0.973299</td>\n",
       "      <td>03:20</td>\n",
       "    </tr>\n",
       "    <tr>\n",
       "      <td>9</td>\n",
       "      <td>0.023956</td>\n",
       "      <td>0.068972</td>\n",
       "      <td>0.970337</td>\n",
       "      <td>03:20</td>\n",
       "    </tr>\n",
       "  </tbody>\n",
       "</table>"
      ],
      "text/plain": [
       "<IPython.core.display.HTML object>"
      ]
     },
     "metadata": {},
     "output_type": "display_data"
    },
    {
     "name": "stdout",
     "output_type": "stream",
     "text": [
      "Epoch 3: reducing lr to 0.005\n",
      "Epoch 5: reducing lr to 0.005\n",
      "Epoch 6: reducing lr to 0.005\n",
      "Epoch 7: reducing lr to 0.004531926864186965\n"
     ]
    }
   ],
   "source": [
    "learn = timm_learner(dls, 'resnetblur50', pretrained=True,\n",
    "                     n_in=1,n_out=1,metrics=[roc_auc], \n",
    "                     opt_func=ranger,\n",
    "                     loss_func=BCEWithLogitsLossFlat()).to_fp16()\n",
    "learn.fit_flat_cos(10, 5e-2, wd=0.1, cbs=[ReduceLROnPlateau(), GradientClip()])"
   ]
  },
  {
   "cell_type": "code",
   "execution_count": 20,
   "metadata": {},
   "outputs": [
    {
     "data": {
      "text/plain": [
       "4"
      ]
     },
     "execution_count": 20,
     "metadata": {},
     "output_type": "execute_result"
    }
   ],
   "source": [
    "v_idxs = get_val_idxs(train_df, 4)\n",
    "len(v_idxs)"
   ]
  },
  {
   "cell_type": "code",
   "execution_count": 21,
   "metadata": {},
   "outputs": [],
   "source": [
    "models = ['tv_resnet50', 'resnet50', 'resnetblur50', 'tv_resnet101']"
   ]
  },
  {
   "cell_type": "code",
   "execution_count": 24,
   "metadata": {},
   "outputs": [
    {
     "data": {
      "text/html": [
       "<table border=\"1\" class=\"dataframe\">\n",
       "  <thead>\n",
       "    <tr style=\"text-align: left;\">\n",
       "      <th>epoch</th>\n",
       "      <th>train_loss</th>\n",
       "      <th>valid_loss</th>\n",
       "      <th>roc_auc</th>\n",
       "      <th>time</th>\n",
       "    </tr>\n",
       "  </thead>\n",
       "  <tbody>\n",
       "    <tr>\n",
       "      <td>0</td>\n",
       "      <td>0.188711</td>\n",
       "      <td>0.174675</td>\n",
       "      <td>0.868833</td>\n",
       "      <td>02:56</td>\n",
       "    </tr>\n",
       "    <tr>\n",
       "      <td>1</td>\n",
       "      <td>0.139876</td>\n",
       "      <td>0.112700</td>\n",
       "      <td>0.934155</td>\n",
       "      <td>02:52</td>\n",
       "    </tr>\n",
       "    <tr>\n",
       "      <td>2</td>\n",
       "      <td>0.117795</td>\n",
       "      <td>0.085185</td>\n",
       "      <td>0.962193</td>\n",
       "      <td>02:52</td>\n",
       "    </tr>\n",
       "    <tr>\n",
       "      <td>3</td>\n",
       "      <td>0.108435</td>\n",
       "      <td>0.108981</td>\n",
       "      <td>0.949925</td>\n",
       "      <td>02:52</td>\n",
       "    </tr>\n",
       "    <tr>\n",
       "      <td>4</td>\n",
       "      <td>0.097016</td>\n",
       "      <td>0.097044</td>\n",
       "      <td>0.948783</td>\n",
       "      <td>02:52</td>\n",
       "    </tr>\n",
       "    <tr>\n",
       "      <td>5</td>\n",
       "      <td>0.085803</td>\n",
       "      <td>0.078478</td>\n",
       "      <td>0.969511</td>\n",
       "      <td>02:52</td>\n",
       "    </tr>\n",
       "    <tr>\n",
       "      <td>6</td>\n",
       "      <td>0.086730</td>\n",
       "      <td>0.075794</td>\n",
       "      <td>0.969606</td>\n",
       "      <td>02:52</td>\n",
       "    </tr>\n",
       "    <tr>\n",
       "      <td>7</td>\n",
       "      <td>0.076289</td>\n",
       "      <td>0.074028</td>\n",
       "      <td>0.970114</td>\n",
       "      <td>02:53</td>\n",
       "    </tr>\n",
       "    <tr>\n",
       "      <td>8</td>\n",
       "      <td>0.059429</td>\n",
       "      <td>0.070681</td>\n",
       "      <td>0.970656</td>\n",
       "      <td>02:53</td>\n",
       "    </tr>\n",
       "    <tr>\n",
       "      <td>9</td>\n",
       "      <td>0.035884</td>\n",
       "      <td>0.065762</td>\n",
       "      <td>0.972564</td>\n",
       "      <td>02:53</td>\n",
       "    </tr>\n",
       "  </tbody>\n",
       "</table>"
      ],
      "text/plain": [
       "<IPython.core.display.HTML object>"
      ]
     },
     "metadata": {},
     "output_type": "display_data"
    },
    {
     "name": "stdout",
     "output_type": "stream",
     "text": [
      "Epoch 3: reducing lr to 0.005\n",
      "Epoch 4: reducing lr to 0.005\n"
     ]
    },
    {
     "data": {
      "text/html": [
       "<table border=\"1\" class=\"dataframe\">\n",
       "  <thead>\n",
       "    <tr style=\"text-align: left;\">\n",
       "      <th>epoch</th>\n",
       "      <th>train_loss</th>\n",
       "      <th>valid_loss</th>\n",
       "      <th>roc_auc</th>\n",
       "      <th>time</th>\n",
       "    </tr>\n",
       "  </thead>\n",
       "  <tbody>\n",
       "    <tr>\n",
       "      <td>0</td>\n",
       "      <td>0.184855</td>\n",
       "      <td>0.158131</td>\n",
       "      <td>0.942006</td>\n",
       "      <td>02:57</td>\n",
       "    </tr>\n",
       "    <tr>\n",
       "      <td>1</td>\n",
       "      <td>0.122834</td>\n",
       "      <td>0.121987</td>\n",
       "      <td>0.966433</td>\n",
       "      <td>02:53</td>\n",
       "    </tr>\n",
       "    <tr>\n",
       "      <td>2</td>\n",
       "      <td>0.095367</td>\n",
       "      <td>0.084771</td>\n",
       "      <td>0.967495</td>\n",
       "      <td>02:54</td>\n",
       "    </tr>\n",
       "    <tr>\n",
       "      <td>3</td>\n",
       "      <td>0.084971</td>\n",
       "      <td>0.314548</td>\n",
       "      <td>0.967759</td>\n",
       "      <td>02:54</td>\n",
       "    </tr>\n",
       "    <tr>\n",
       "      <td>4</td>\n",
       "      <td>0.088969</td>\n",
       "      <td>0.450016</td>\n",
       "      <td>0.966510</td>\n",
       "      <td>02:54</td>\n",
       "    </tr>\n",
       "    <tr>\n",
       "      <td>5</td>\n",
       "      <td>0.070160</td>\n",
       "      <td>0.111427</td>\n",
       "      <td>0.970910</td>\n",
       "      <td>02:54</td>\n",
       "    </tr>\n",
       "    <tr>\n",
       "      <td>6</td>\n",
       "      <td>0.067402</td>\n",
       "      <td>0.123700</td>\n",
       "      <td>0.964680</td>\n",
       "      <td>02:54</td>\n",
       "    </tr>\n",
       "    <tr>\n",
       "      <td>7</td>\n",
       "      <td>0.064350</td>\n",
       "      <td>0.089834</td>\n",
       "      <td>0.970212</td>\n",
       "      <td>02:54</td>\n",
       "    </tr>\n",
       "    <tr>\n",
       "      <td>8</td>\n",
       "      <td>0.044965</td>\n",
       "      <td>0.079481</td>\n",
       "      <td>0.972292</td>\n",
       "      <td>02:54</td>\n",
       "    </tr>\n",
       "    <tr>\n",
       "      <td>9</td>\n",
       "      <td>0.026358</td>\n",
       "      <td>0.070928</td>\n",
       "      <td>0.976116</td>\n",
       "      <td>02:54</td>\n",
       "    </tr>\n",
       "  </tbody>\n",
       "</table>"
      ],
      "text/plain": [
       "<IPython.core.display.HTML object>"
      ]
     },
     "metadata": {},
     "output_type": "display_data"
    },
    {
     "name": "stdout",
     "output_type": "stream",
     "text": [
      "Epoch 3: reducing lr to 0.005\n",
      "Epoch 4: reducing lr to 0.005\n",
      "Epoch 5: reducing lr to 0.005\n",
      "Epoch 6: reducing lr to 0.005\n",
      "Epoch 7: reducing lr to 0.004531926864186965\n"
     ]
    },
    {
     "data": {
      "text/html": [
       "<table border=\"1\" class=\"dataframe\">\n",
       "  <thead>\n",
       "    <tr style=\"text-align: left;\">\n",
       "      <th>epoch</th>\n",
       "      <th>train_loss</th>\n",
       "      <th>valid_loss</th>\n",
       "      <th>roc_auc</th>\n",
       "      <th>time</th>\n",
       "    </tr>\n",
       "  </thead>\n",
       "  <tbody>\n",
       "    <tr>\n",
       "      <td>0</td>\n",
       "      <td>0.185766</td>\n",
       "      <td>0.122902</td>\n",
       "      <td>0.934834</td>\n",
       "      <td>03:23</td>\n",
       "    </tr>\n",
       "    <tr>\n",
       "      <td>1</td>\n",
       "      <td>0.109096</td>\n",
       "      <td>0.086962</td>\n",
       "      <td>0.956036</td>\n",
       "      <td>03:19</td>\n",
       "    </tr>\n",
       "    <tr>\n",
       "      <td>2</td>\n",
       "      <td>0.096715</td>\n",
       "      <td>0.090534</td>\n",
       "      <td>0.963164</td>\n",
       "      <td>03:19</td>\n",
       "    </tr>\n",
       "    <tr>\n",
       "      <td>3</td>\n",
       "      <td>0.084569</td>\n",
       "      <td>0.141433</td>\n",
       "      <td>0.970659</td>\n",
       "      <td>03:19</td>\n",
       "    </tr>\n",
       "    <tr>\n",
       "      <td>4</td>\n",
       "      <td>0.080550</td>\n",
       "      <td>0.074934</td>\n",
       "      <td>0.970403</td>\n",
       "      <td>03:19</td>\n",
       "    </tr>\n",
       "    <tr>\n",
       "      <td>5</td>\n",
       "      <td>0.066388</td>\n",
       "      <td>0.101373</td>\n",
       "      <td>0.967854</td>\n",
       "      <td>03:19</td>\n",
       "    </tr>\n",
       "    <tr>\n",
       "      <td>6</td>\n",
       "      <td>0.074420</td>\n",
       "      <td>0.075463</td>\n",
       "      <td>0.970337</td>\n",
       "      <td>03:19</td>\n",
       "    </tr>\n",
       "    <tr>\n",
       "      <td>7</td>\n",
       "      <td>0.058912</td>\n",
       "      <td>0.077087</td>\n",
       "      <td>0.969873</td>\n",
       "      <td>03:19</td>\n",
       "    </tr>\n",
       "    <tr>\n",
       "      <td>8</td>\n",
       "      <td>0.050201</td>\n",
       "      <td>0.063787</td>\n",
       "      <td>0.970898</td>\n",
       "      <td>03:19</td>\n",
       "    </tr>\n",
       "    <tr>\n",
       "      <td>9</td>\n",
       "      <td>0.028821</td>\n",
       "      <td>0.062981</td>\n",
       "      <td>0.970267</td>\n",
       "      <td>03:19</td>\n",
       "    </tr>\n",
       "  </tbody>\n",
       "</table>"
      ],
      "text/plain": [
       "<IPython.core.display.HTML object>"
      ]
     },
     "metadata": {},
     "output_type": "display_data"
    },
    {
     "name": "stdout",
     "output_type": "stream",
     "text": [
      "Epoch 2: reducing lr to 0.005\n",
      "Epoch 3: reducing lr to 0.005\n",
      "Epoch 5: reducing lr to 0.005\n",
      "Epoch 6: reducing lr to 0.005\n",
      "Epoch 7: reducing lr to 0.004531926864186965\n"
     ]
    },
    {
     "data": {
      "text/html": [
       "<table border=\"1\" class=\"dataframe\">\n",
       "  <thead>\n",
       "    <tr style=\"text-align: left;\">\n",
       "      <th>epoch</th>\n",
       "      <th>train_loss</th>\n",
       "      <th>valid_loss</th>\n",
       "      <th>roc_auc</th>\n",
       "      <th>time</th>\n",
       "    </tr>\n",
       "  </thead>\n",
       "  <tbody>\n",
       "    <tr>\n",
       "      <td>0</td>\n",
       "      <td>0.186678</td>\n",
       "      <td>0.217707</td>\n",
       "      <td>0.878099</td>\n",
       "      <td>04:27</td>\n",
       "    </tr>\n",
       "    <tr>\n",
       "      <td>1</td>\n",
       "      <td>0.129028</td>\n",
       "      <td>0.110165</td>\n",
       "      <td>0.940397</td>\n",
       "      <td>04:27</td>\n",
       "    </tr>\n",
       "    <tr>\n",
       "      <td>2</td>\n",
       "      <td>0.107463</td>\n",
       "      <td>0.134855</td>\n",
       "      <td>0.932835</td>\n",
       "      <td>04:27</td>\n",
       "    </tr>\n",
       "    <tr>\n",
       "      <td>3</td>\n",
       "      <td>0.105184</td>\n",
       "      <td>0.119938</td>\n",
       "      <td>0.951520</td>\n",
       "      <td>04:27</td>\n",
       "    </tr>\n",
       "    <tr>\n",
       "      <td>4</td>\n",
       "      <td>0.092680</td>\n",
       "      <td>0.091969</td>\n",
       "      <td>0.953754</td>\n",
       "      <td>04:27</td>\n",
       "    </tr>\n",
       "    <tr>\n",
       "      <td>5</td>\n",
       "      <td>0.084495</td>\n",
       "      <td>0.098164</td>\n",
       "      <td>0.941663</td>\n",
       "      <td>04:27</td>\n",
       "    </tr>\n",
       "    <tr>\n",
       "      <td>6</td>\n",
       "      <td>0.088484</td>\n",
       "      <td>0.081754</td>\n",
       "      <td>0.961860</td>\n",
       "      <td>04:27</td>\n",
       "    </tr>\n",
       "    <tr>\n",
       "      <td>7</td>\n",
       "      <td>0.076868</td>\n",
       "      <td>0.087681</td>\n",
       "      <td>0.958559</td>\n",
       "      <td>04:27</td>\n",
       "    </tr>\n",
       "    <tr>\n",
       "      <td>8</td>\n",
       "      <td>0.053988</td>\n",
       "      <td>0.077022</td>\n",
       "      <td>0.964041</td>\n",
       "      <td>04:27</td>\n",
       "    </tr>\n",
       "    <tr>\n",
       "      <td>9</td>\n",
       "      <td>0.031575</td>\n",
       "      <td>0.074764</td>\n",
       "      <td>0.967198</td>\n",
       "      <td>04:26</td>\n",
       "    </tr>\n",
       "  </tbody>\n",
       "</table>"
      ],
      "text/plain": [
       "<IPython.core.display.HTML object>"
      ]
     },
     "metadata": {},
     "output_type": "display_data"
    },
    {
     "name": "stdout",
     "output_type": "stream",
     "text": [
      "Epoch 2: reducing lr to 0.005\n",
      "Epoch 3: reducing lr to 0.005\n",
      "Epoch 5: reducing lr to 0.005\n",
      "Epoch 7: reducing lr to 0.004531926864186965\n"
     ]
    }
   ],
   "source": [
    "for x in range(len(v_idxs)):\n",
    "    dls = get_dls(x)\n",
    "    model = models[x]\n",
    "    learn = timm_learner(dls,model, pretrained=True,\n",
    "                     n_in=1,n_out=1,metrics=[roc_auc], \n",
    "                     opt_func=ranger,\n",
    "                     loss_func=BCEWithLogitsLossFlat()).to_fp16()\n",
    "    learn.fit_flat_cos(10, 5e-2, wd=0.1, cbs=[ReduceLROnPlateau(),GradientClip()])   \n",
    "    learn.save(f'{model}_4_arch')"
   ]
  },
  {
   "cell_type": "code",
   "execution_count": 39,
   "metadata": {},
   "outputs": [],
   "source": [
    "learn = timm_learner(dls, models[1], pretrained=True,\n",
    "                     n_in=1,n_out=1,metrics=[roc_auc], \n",
    "                     opt_func=ranger,\n",
    "                     loss_func=BCEWithLogitsLossFlat()).to_fp16()"
   ]
  },
  {
   "cell_type": "code",
   "execution_count": 40,
   "metadata": {},
   "outputs": [
    {
     "data": {
      "text/html": [
       "<table border=\"1\" class=\"dataframe\">\n",
       "  <thead>\n",
       "    <tr style=\"text-align: left;\">\n",
       "      <th>epoch</th>\n",
       "      <th>train_loss</th>\n",
       "      <th>valid_loss</th>\n",
       "      <th>roc_auc</th>\n",
       "      <th>time</th>\n",
       "    </tr>\n",
       "  </thead>\n",
       "  <tbody>\n",
       "    <tr>\n",
       "      <td>0</td>\n",
       "      <td>0.144969</td>\n",
       "      <td>0.118387</td>\n",
       "      <td>0.948435</td>\n",
       "      <td>04:49</td>\n",
       "    </tr>\n",
       "    <tr>\n",
       "      <td>1</td>\n",
       "      <td>0.108329</td>\n",
       "      <td>0.104356</td>\n",
       "      <td>0.949275</td>\n",
       "      <td>04:42</td>\n",
       "    </tr>\n",
       "    <tr>\n",
       "      <td>2</td>\n",
       "      <td>0.088477</td>\n",
       "      <td>0.082407</td>\n",
       "      <td>0.968111</td>\n",
       "      <td>04:42</td>\n",
       "    </tr>\n",
       "    <tr>\n",
       "      <td>3</td>\n",
       "      <td>0.085495</td>\n",
       "      <td>0.086632</td>\n",
       "      <td>0.957437</td>\n",
       "      <td>04:42</td>\n",
       "    </tr>\n",
       "    <tr>\n",
       "      <td>4</td>\n",
       "      <td>0.063362</td>\n",
       "      <td>0.082593</td>\n",
       "      <td>0.963541</td>\n",
       "      <td>04:42</td>\n",
       "    </tr>\n",
       "    <tr>\n",
       "      <td>5</td>\n",
       "      <td>0.061572</td>\n",
       "      <td>0.068589</td>\n",
       "      <td>0.968420</td>\n",
       "      <td>04:42</td>\n",
       "    </tr>\n",
       "    <tr>\n",
       "      <td>6</td>\n",
       "      <td>0.032151</td>\n",
       "      <td>0.063606</td>\n",
       "      <td>0.974890</td>\n",
       "      <td>04:43</td>\n",
       "    </tr>\n",
       "  </tbody>\n",
       "</table>"
      ],
      "text/plain": [
       "<IPython.core.display.HTML object>"
      ]
     },
     "metadata": {},
     "output_type": "display_data"
    },
    {
     "name": "stdout",
     "output_type": "stream",
     "text": [
      "Epoch 3: reducing lr to 0.005\n",
      "Epoch 4: reducing lr to 0.005\n"
     ]
    }
   ],
   "source": [
    "learn.fit_flat_cos(7, 5e-2, wd=0.1, cbs=[ReduceLROnPlateau()])"
   ]
  },
  {
   "cell_type": "code",
   "execution_count": 44,
   "metadata": {},
   "outputs": [
    {
     "data": {
      "text/html": [
       "<table border=\"1\" class=\"dataframe\">\n",
       "  <thead>\n",
       "    <tr style=\"text-align: left;\">\n",
       "      <th>epoch</th>\n",
       "      <th>train_loss</th>\n",
       "      <th>valid_loss</th>\n",
       "      <th>roc_auc</th>\n",
       "      <th>time</th>\n",
       "    </tr>\n",
       "  </thead>\n",
       "  <tbody>\n",
       "    <tr>\n",
       "      <td>0</td>\n",
       "      <td>0.138274</td>\n",
       "      <td>0.154023</td>\n",
       "      <td>0.939299</td>\n",
       "      <td>04:44</td>\n",
       "    </tr>\n",
       "    <tr>\n",
       "      <td>1</td>\n",
       "      <td>0.091558</td>\n",
       "      <td>0.107452</td>\n",
       "      <td>0.956277</td>\n",
       "      <td>04:45</td>\n",
       "    </tr>\n",
       "    <tr>\n",
       "      <td>2</td>\n",
       "      <td>0.076632</td>\n",
       "      <td>0.092022</td>\n",
       "      <td>0.964553</td>\n",
       "      <td>04:45</td>\n",
       "    </tr>\n",
       "    <tr>\n",
       "      <td>3</td>\n",
       "      <td>0.075380</td>\n",
       "      <td>0.104492</td>\n",
       "      <td>0.960337</td>\n",
       "      <td>04:45</td>\n",
       "    </tr>\n",
       "    <tr>\n",
       "      <td>4</td>\n",
       "      <td>0.073083</td>\n",
       "      <td>0.099821</td>\n",
       "      <td>0.962565</td>\n",
       "      <td>04:45</td>\n",
       "    </tr>\n",
       "    <tr>\n",
       "      <td>5</td>\n",
       "      <td>0.060635</td>\n",
       "      <td>0.067079</td>\n",
       "      <td>0.968163</td>\n",
       "      <td>04:45</td>\n",
       "    </tr>\n",
       "    <tr>\n",
       "      <td>6</td>\n",
       "      <td>0.034769</td>\n",
       "      <td>0.062346</td>\n",
       "      <td>0.973724</td>\n",
       "      <td>04:45</td>\n",
       "    </tr>\n",
       "  </tbody>\n",
       "</table>"
      ],
      "text/plain": [
       "<IPython.core.display.HTML object>"
      ]
     },
     "metadata": {},
     "output_type": "display_data"
    },
    {
     "name": "stdout",
     "output_type": "stream",
     "text": [
      "Epoch 3: reducing lr to 0.005\n",
      "Epoch 4: reducing lr to 0.005\n"
     ]
    }
   ],
   "source": [
    "learn = timm_learner(dls, models[1], pretrained=True,\n",
    "                     n_in=1,n_out=1,metrics=[roc_auc], \n",
    "                     opt_func=ranger,\n",
    "                     loss_func=BCEWithLogitsLossFlat()).to_fp16()\n",
    "learn.fit_flat_cos(7, 5e-2, wd=0.1, cbs=[ReduceLROnPlateau(), GradientClip()])"
   ]
  },
  {
   "cell_type": "code",
   "execution_count": 47,
   "metadata": {},
   "outputs": [
    {
     "data": {
      "text/html": [
       "<table border=\"1\" class=\"dataframe\">\n",
       "  <thead>\n",
       "    <tr style=\"text-align: left;\">\n",
       "      <th>epoch</th>\n",
       "      <th>train_loss</th>\n",
       "      <th>valid_loss</th>\n",
       "      <th>roc_auc</th>\n",
       "      <th>time</th>\n",
       "    </tr>\n",
       "  </thead>\n",
       "  <tbody>\n",
       "    <tr>\n",
       "      <td>0</td>\n",
       "      <td>0.138024</td>\n",
       "      <td>0.121086</td>\n",
       "      <td>0.948114</td>\n",
       "      <td>04:45</td>\n",
       "    </tr>\n",
       "    <tr>\n",
       "      <td>1</td>\n",
       "      <td>0.089119</td>\n",
       "      <td>0.119764</td>\n",
       "      <td>0.950397</td>\n",
       "      <td>04:45</td>\n",
       "    </tr>\n",
       "    <tr>\n",
       "      <td>2</td>\n",
       "      <td>0.082086</td>\n",
       "      <td>0.075595</td>\n",
       "      <td>0.968033</td>\n",
       "      <td>04:45</td>\n",
       "    </tr>\n",
       "    <tr>\n",
       "      <td>3</td>\n",
       "      <td>0.076499</td>\n",
       "      <td>0.141566</td>\n",
       "      <td>0.953625</td>\n",
       "      <td>04:45</td>\n",
       "    </tr>\n",
       "    <tr>\n",
       "      <td>4</td>\n",
       "      <td>0.077966</td>\n",
       "      <td>0.090702</td>\n",
       "      <td>0.964256</td>\n",
       "      <td>04:45</td>\n",
       "    </tr>\n",
       "    <tr>\n",
       "      <td>5</td>\n",
       "      <td>0.057654</td>\n",
       "      <td>0.094636</td>\n",
       "      <td>0.968837</td>\n",
       "      <td>04:45</td>\n",
       "    </tr>\n",
       "    <tr>\n",
       "      <td>6</td>\n",
       "      <td>0.053133</td>\n",
       "      <td>0.091768</td>\n",
       "      <td>0.969897</td>\n",
       "      <td>04:45</td>\n",
       "    </tr>\n",
       "    <tr>\n",
       "      <td>7</td>\n",
       "      <td>0.040822</td>\n",
       "      <td>0.068786</td>\n",
       "      <td>0.971372</td>\n",
       "      <td>04:45</td>\n",
       "    </tr>\n",
       "    <tr>\n",
       "      <td>8</td>\n",
       "      <td>0.023691</td>\n",
       "      <td>0.073926</td>\n",
       "      <td>0.970494</td>\n",
       "      <td>04:45</td>\n",
       "    </tr>\n",
       "  </tbody>\n",
       "</table>"
      ],
      "text/plain": [
       "<IPython.core.display.HTML object>"
      ]
     },
     "metadata": {},
     "output_type": "display_data"
    },
    {
     "name": "stdout",
     "output_type": "stream",
     "text": [
      "Epoch 3: reducing lr to 0.005\n",
      "Epoch 4: reducing lr to 0.005\n",
      "Epoch 5: reducing lr to 0.005\n",
      "Epoch 6: reducing lr to 0.004853756257034318\n",
      "Epoch 8: reducing lr to 8.550049324512754e-08\n"
     ]
    }
   ],
   "source": [
    "learn = timm_learner(dls, models[1], pretrained=True,\n",
    "                     n_in=1,n_out=1,metrics=[roc_auc], \n",
    "                     opt_func=ranger,\n",
    "                     loss_func=BCEWithLogitsLossFlat()).to_fp16()\n",
    "learn.fit_flat_cos(9, 5e-2, wd=0.1, cbs=[ReduceLROnPlateau(), GradientClip()])"
   ]
  },
  {
   "cell_type": "code",
   "execution_count": 21,
   "metadata": {},
   "outputs": [
    {
     "data": {
      "text/html": [
       "<table border=\"1\" class=\"dataframe\">\n",
       "  <thead>\n",
       "    <tr style=\"text-align: left;\">\n",
       "      <th>epoch</th>\n",
       "      <th>train_loss</th>\n",
       "      <th>valid_loss</th>\n",
       "      <th>roc_auc</th>\n",
       "      <th>time</th>\n",
       "    </tr>\n",
       "  </thead>\n",
       "  <tbody>\n",
       "    <tr>\n",
       "      <td>0</td>\n",
       "      <td>0.142960</td>\n",
       "      <td>0.148782</td>\n",
       "      <td>0.961476</td>\n",
       "      <td>02:54</td>\n",
       "    </tr>\n",
       "    <tr>\n",
       "      <td>1</td>\n",
       "      <td>0.099324</td>\n",
       "      <td>0.085574</td>\n",
       "      <td>0.969219</td>\n",
       "      <td>02:47</td>\n",
       "    </tr>\n",
       "    <tr>\n",
       "      <td>2</td>\n",
       "      <td>0.083973</td>\n",
       "      <td>0.073024</td>\n",
       "      <td>0.971810</td>\n",
       "      <td>02:47</td>\n",
       "    </tr>\n",
       "    <tr>\n",
       "      <td>3</td>\n",
       "      <td>0.078127</td>\n",
       "      <td>0.075033</td>\n",
       "      <td>0.977286</td>\n",
       "      <td>02:47</td>\n",
       "    </tr>\n",
       "    <tr>\n",
       "      <td>4</td>\n",
       "      <td>0.075097</td>\n",
       "      <td>0.066545</td>\n",
       "      <td>0.974138</td>\n",
       "      <td>02:47</td>\n",
       "    </tr>\n",
       "    <tr>\n",
       "      <td>5</td>\n",
       "      <td>0.059780</td>\n",
       "      <td>0.061478</td>\n",
       "      <td>0.976624</td>\n",
       "      <td>02:47</td>\n",
       "    </tr>\n",
       "    <tr>\n",
       "      <td>6</td>\n",
       "      <td>0.034456</td>\n",
       "      <td>0.057766</td>\n",
       "      <td>0.978101</td>\n",
       "      <td>02:47</td>\n",
       "    </tr>\n",
       "  </tbody>\n",
       "</table>"
      ],
      "text/plain": [
       "<IPython.core.display.HTML object>"
      ]
     },
     "metadata": {},
     "output_type": "display_data"
    },
    {
     "name": "stdout",
     "output_type": "stream",
     "text": [
      "Epoch 3: reducing lr to 0.005\n"
     ]
    }
   ],
   "source": [
    "learn = timm_learner(dls, models[2], pretrained=True,\n",
    "                     n_in=1,n_out=1,metrics=[roc_auc], \n",
    "                     opt_func=ranger,\n",
    "                     loss_func=BCEWithLogitsLossFlat()).to_fp16()\n",
    "learn.fit_flat_cos(7, 5e-2, wd=0.1, cbs=[ReduceLROnPlateau()])"
   ]
  },
  {
   "cell_type": "code",
   "execution_count": 23,
   "metadata": {},
   "outputs": [],
   "source": [
    "def get_dls(fold, bs=64):\n",
    "    t_df, v_df = get_dfs(train_df, v_idxs, fold)\n",
    "    t_ds = SETIDataset(t_df)\n",
    "    v_ds = SETIDataset(v_df)\n",
    "    train_dl = torch.utils.data.DataLoader(t_ds, batch_size=bs,num_workers=8)\n",
    "    valid_dl = torch.utils.data.DataLoader(v_ds, batch_size=bs,num_workers=8)\n",
    "    dls = DataLoaders(train_dl, valid_dl)\n",
    "    return dls"
   ]
  },
  {
   "cell_type": "code",
   "execution_count": 15,
   "metadata": {},
   "outputs": [],
   "source": [
    "models = ['seresnext26d_32x4d', 'resnext50_32x4d', 'efficientnet_b2']"
   ]
  },
  {
   "cell_type": "code",
   "execution_count": 16,
   "metadata": {},
   "outputs": [
    {
     "data": {
      "text/html": [
       "<table border=\"1\" class=\"dataframe\">\n",
       "  <thead>\n",
       "    <tr style=\"text-align: left;\">\n",
       "      <th>epoch</th>\n",
       "      <th>train_loss</th>\n",
       "      <th>valid_loss</th>\n",
       "      <th>roc_auc</th>\n",
       "      <th>time</th>\n",
       "    </tr>\n",
       "  </thead>\n",
       "  <tbody>\n",
       "    <tr>\n",
       "      <td>0</td>\n",
       "      <td>0.154700</td>\n",
       "      <td>0.135400</td>\n",
       "      <td>0.931842</td>\n",
       "      <td>03:54</td>\n",
       "    </tr>\n",
       "    <tr>\n",
       "      <td>1</td>\n",
       "      <td>0.109395</td>\n",
       "      <td>0.095061</td>\n",
       "      <td>0.956674</td>\n",
       "      <td>03:46</td>\n",
       "    </tr>\n",
       "    <tr>\n",
       "      <td>2</td>\n",
       "      <td>0.090867</td>\n",
       "      <td>0.091229</td>\n",
       "      <td>0.944933</td>\n",
       "      <td>03:46</td>\n",
       "    </tr>\n",
       "    <tr>\n",
       "      <td>3</td>\n",
       "      <td>0.085117</td>\n",
       "      <td>0.155419</td>\n",
       "      <td>0.954116</td>\n",
       "      <td>03:46</td>\n",
       "    </tr>\n",
       "    <tr>\n",
       "      <td>4</td>\n",
       "      <td>0.073753</td>\n",
       "      <td>0.078319</td>\n",
       "      <td>0.963635</td>\n",
       "      <td>03:46</td>\n",
       "    </tr>\n",
       "    <tr>\n",
       "      <td>5</td>\n",
       "      <td>0.063834</td>\n",
       "      <td>0.073552</td>\n",
       "      <td>0.972373</td>\n",
       "      <td>03:46</td>\n",
       "    </tr>\n",
       "    <tr>\n",
       "      <td>6</td>\n",
       "      <td>0.040367</td>\n",
       "      <td>0.060033</td>\n",
       "      <td>0.973985</td>\n",
       "      <td>03:46</td>\n",
       "    </tr>\n",
       "  </tbody>\n",
       "</table>"
      ],
      "text/plain": [
       "<IPython.core.display.HTML object>"
      ]
     },
     "metadata": {},
     "output_type": "display_data"
    },
    {
     "name": "stdout",
     "output_type": "stream",
     "text": [
      "Epoch 3: reducing lr to 0.005\n"
     ]
    },
    {
     "data": {
      "text/html": [
       "<table border=\"1\" class=\"dataframe\">\n",
       "  <thead>\n",
       "    <tr style=\"text-align: left;\">\n",
       "      <th>epoch</th>\n",
       "      <th>train_loss</th>\n",
       "      <th>valid_loss</th>\n",
       "      <th>roc_auc</th>\n",
       "      <th>time</th>\n",
       "    </tr>\n",
       "  </thead>\n",
       "  <tbody>\n",
       "    <tr>\n",
       "      <td>0</td>\n",
       "      <td>0.141549</td>\n",
       "      <td>0.113157</td>\n",
       "      <td>0.953514</td>\n",
       "      <td>04:45</td>\n",
       "    </tr>\n",
       "    <tr>\n",
       "      <td>1</td>\n",
       "      <td>0.088344</td>\n",
       "      <td>0.129568</td>\n",
       "      <td>0.936435</td>\n",
       "      <td>04:44</td>\n",
       "    </tr>\n",
       "    <tr>\n",
       "      <td>2</td>\n",
       "      <td>0.074998</td>\n",
       "      <td>0.067393</td>\n",
       "      <td>0.973439</td>\n",
       "      <td>04:45</td>\n",
       "    </tr>\n",
       "    <tr>\n",
       "      <td>3</td>\n",
       "      <td>0.065775</td>\n",
       "      <td>0.096621</td>\n",
       "      <td>0.955943</td>\n",
       "      <td>04:44</td>\n",
       "    </tr>\n",
       "    <tr>\n",
       "      <td>4</td>\n",
       "      <td>0.083768</td>\n",
       "      <td>0.081833</td>\n",
       "      <td>0.962531</td>\n",
       "      <td>04:44</td>\n",
       "    </tr>\n",
       "    <tr>\n",
       "      <td>5</td>\n",
       "      <td>0.058062</td>\n",
       "      <td>0.070456</td>\n",
       "      <td>0.967814</td>\n",
       "      <td>04:44</td>\n",
       "    </tr>\n",
       "    <tr>\n",
       "      <td>6</td>\n",
       "      <td>0.033454</td>\n",
       "      <td>0.058776</td>\n",
       "      <td>0.977189</td>\n",
       "      <td>04:44</td>\n",
       "    </tr>\n",
       "  </tbody>\n",
       "</table>"
      ],
      "text/plain": [
       "<IPython.core.display.HTML object>"
      ]
     },
     "metadata": {},
     "output_type": "display_data"
    },
    {
     "name": "stdout",
     "output_type": "stream",
     "text": [
      "Epoch 1: reducing lr to 0.005\n",
      "Epoch 3: reducing lr to 0.005\n",
      "Epoch 4: reducing lr to 0.005\n",
      "Epoch 5: reducing lr to 0.0030730086227141722\n"
     ]
    },
    {
     "data": {
      "text/html": [
       "<table border=\"1\" class=\"dataframe\">\n",
       "  <thead>\n",
       "    <tr style=\"text-align: left;\">\n",
       "      <th>epoch</th>\n",
       "      <th>train_loss</th>\n",
       "      <th>valid_loss</th>\n",
       "      <th>roc_auc</th>\n",
       "      <th>time</th>\n",
       "    </tr>\n",
       "  </thead>\n",
       "  <tbody>\n",
       "    <tr>\n",
       "      <td>0</td>\n",
       "      <td>0.145882</td>\n",
       "      <td>0.082902</td>\n",
       "      <td>0.960596</td>\n",
       "      <td>02:54</td>\n",
       "    </tr>\n",
       "    <tr>\n",
       "      <td>1</td>\n",
       "      <td>0.099172</td>\n",
       "      <td>0.090179</td>\n",
       "      <td>0.957996</td>\n",
       "      <td>02:47</td>\n",
       "    </tr>\n",
       "    <tr>\n",
       "      <td>2</td>\n",
       "      <td>0.085595</td>\n",
       "      <td>0.083089</td>\n",
       "      <td>0.955636</td>\n",
       "      <td>02:47</td>\n",
       "    </tr>\n",
       "    <tr>\n",
       "      <td>3</td>\n",
       "      <td>0.078476</td>\n",
       "      <td>0.076766</td>\n",
       "      <td>0.968319</td>\n",
       "      <td>02:48</td>\n",
       "    </tr>\n",
       "    <tr>\n",
       "      <td>4</td>\n",
       "      <td>0.074623</td>\n",
       "      <td>0.073386</td>\n",
       "      <td>0.969891</td>\n",
       "      <td>02:47</td>\n",
       "    </tr>\n",
       "    <tr>\n",
       "      <td>5</td>\n",
       "      <td>0.065423</td>\n",
       "      <td>0.069890</td>\n",
       "      <td>0.969473</td>\n",
       "      <td>02:47</td>\n",
       "    </tr>\n",
       "    <tr>\n",
       "      <td>6</td>\n",
       "      <td>0.039989</td>\n",
       "      <td>0.062329</td>\n",
       "      <td>0.974409</td>\n",
       "      <td>02:47</td>\n",
       "    </tr>\n",
       "  </tbody>\n",
       "</table>"
      ],
      "text/plain": [
       "<IPython.core.display.HTML object>"
      ]
     },
     "metadata": {},
     "output_type": "display_data"
    },
    {
     "name": "stdout",
     "output_type": "stream",
     "text": [
      "Epoch 1: reducing lr to 0.005\n",
      "Epoch 2: reducing lr to 0.005\n"
     ]
    }
   ],
   "source": [
    "for x in range(len(v_idxs)):\n",
    "    dls = get_dls(x)\n",
    "    model = models[x]\n",
    "    learn = timm_learner(dls,model, pretrained=True,\n",
    "                     n_in=1,n_out=1,metrics=[roc_auc], \n",
    "                     opt_func=ranger,\n",
    "                     loss_func=BCEWithLogitsLossFlat()).to_fp16()\n",
    "    learn.fit_flat_cos(7, 5e-2, wd=0.1, cbs=[ReduceLROnPlateau()])   \n",
    "    learn.save(f'{model}_3_arch')"
   ]
  },
  {
   "cell_type": "code",
   "execution_count": 124,
   "metadata": {},
   "outputs": [
    {
     "data": {
      "text/html": [],
      "text/plain": [
       "<IPython.core.display.HTML object>"
      ]
     },
     "metadata": {},
     "output_type": "display_data"
    },
    {
     "data": {
      "text/plain": [
       "SuggestedLRs(lr_min=6.30957365501672e-06, lr_steep=6.309573450380412e-07)"
      ]
     },
     "execution_count": 124,
     "metadata": {},
     "output_type": "execute_result"
    },
    {
     "data": {
      "image/png": "[encoded data removed]",
      "text/plain": [
       "<Figure size 432x288 with 1 Axes>"
      ]
     },
     "metadata": {
      "needs_background": "light"
     },
     "output_type": "display_data"
    }
   ],
   "source": [
    "learn.unfreeze()\n",
    "learn.lr_find()"
   ]
  },
  {
   "cell_type": "code",
   "execution_count": 125,
   "metadata": {},
   "outputs": [
    {
     "data": {
      "text/html": [
       "<table border=\"1\" class=\"dataframe\">\n",
       "  <thead>\n",
       "    <tr style=\"text-align: left;\">\n",
       "      <th>epoch</th>\n",
       "      <th>train_loss</th>\n",
       "      <th>valid_loss</th>\n",
       "      <th>roc_auc</th>\n",
       "      <th>time</th>\n",
       "    </tr>\n",
       "  </thead>\n",
       "  <tbody>\n",
       "    <tr>\n",
       "      <td>0</td>\n",
       "      <td>0.067521</td>\n",
       "      <td>0.064040</td>\n",
       "      <td>0.971883</td>\n",
       "      <td>04:34</td>\n",
       "    </tr>\n",
       "    <tr>\n",
       "      <td>1</td>\n",
       "      <td>0.037071</td>\n",
       "      <td>0.074002</td>\n",
       "      <td>0.967997</td>\n",
       "      <td>04:34</td>\n",
       "    </tr>\n",
       "    <tr>\n",
       "      <td>2</td>\n",
       "      <td>0.016228</td>\n",
       "      <td>0.085814</td>\n",
       "      <td>0.969516</td>\n",
       "      <td>04:34</td>\n",
       "    </tr>\n",
       "  </tbody>\n",
       "</table>"
      ],
      "text/plain": [
       "<IPython.core.display.HTML object>"
      ]
     },
     "metadata": {},
     "output_type": "display_data"
    },
    {
     "name": "stdout",
     "output_type": "stream",
     "text": [
      "Epoch 1: reducing lr to 0.0005\n",
      "Epoch 2: reducing lr to 3.694983898043167e-08\n"
     ]
    }
   ],
   "source": [
    "learn.fit_flat_cos(3, slice(5e-5,5e-3), wd=0.1, cbs=[ReduceLROnPlateau()])"
   ]
  },
  {
   "cell_type": "code",
   "execution_count": null,
   "metadata": {},
   "outputs": [],
   "source": [
    "#learn = learn.to_fp32()\n",
    "#learn.save('eff3')"
   ]
  }
 ],
 "metadata": {
  "kernelspec": {
   "display_name": "Python 3",
   "language": "python",
   "name": "python3"
  },
  "language_info": {
   "codemirror_mode": {
    "name": "ipython",
    "version": 3
   },
   "file_extension": ".py",
   "mimetype": "text/x-python",
   "name": "python",
   "nbconvert_exporter": "python",
   "pygments_lexer": "ipython3",
   "version": "3.8.5"
  }
 },
 "nbformat": 4,
 "nbformat_minor": 5
}
