{
 "cells": [
  {
   "cell_type": "code",
   "execution_count": 1,
   "metadata": {},
   "outputs": [],
   "source": [
    "from fastai.vision.all import *\n",
    "from torch.utils.data import Dataset, DataLoader\n",
    "import albumentations as A\n",
    "from sklearn.model_selection import train_test_split\n",
    "from timm import create_model\n",
    "from fastai.vision.learner import _update_first_layer\n",
    "from sklearn.metrics import roc_auc_score\n",
    "from model import *"
   ]
  },
  {
   "cell_type": "code",
   "execution_count": 2,
   "metadata": {},
   "outputs": [
    {
     "data": {
      "text/plain": [
       "(50165, 3)"
      ]
     },
     "execution_count": 2,
     "metadata": {},
     "output_type": "execute_result"
    }
   ],
   "source": [
    "path = Path('/home/azaidi/Desktop/kaggle/seti_2021')\n",
    "Path.BASE_PATH = path\n",
    "path.ls()\n",
    "train_df = pd.read_csv(path/'data/train_labels.csv')\n",
    "sub_df = pd.read_csv(path/'data/sample_submission.csv')\n",
    "data_path = path/'data'\n",
    "train_df['path'] = train_df['id'].apply(lambda x: str(data_path/'train'/x[0]/x)+'.npy')\n",
    "train_df.shape"
   ]
  },
  {
   "cell_type": "code",
   "execution_count": 15,
   "metadata": {},
   "outputs": [],
   "source": [
    "t_df, v_df = train_test_split(train_df, test_size=0.1)"
   ]
  },
  {
   "cell_type": "code",
   "execution_count": 3,
   "metadata": {},
   "outputs": [],
   "source": [
    "class SetiDS(Dataset):\n",
    "    def __init__(self, df, transforms=None, one_hot=False):\n",
    "        self.df = df\n",
    "        self.transforms = transforms\n",
    "        \n",
    "    def __len__(self):\n",
    "        return len(self.df)\n",
    "    def __getitem__(self,idx):\n",
    "        target = torch.tensor(self.df.iloc[idx].target)\n",
    "        path = self.df.iloc[idx].path\n",
    "        \n",
    "        #the samples are all a 6x273x256 matrix\n",
    "        x = np.load(path).astype(np.float32)[[0,2,4]] #3x273x256\n",
    "        x = np.vstack(x)  #819x256\n",
    "        x = x.transpose((1,0)) # 256x1638 now\n",
    "        \n",
    "        if self.transforms:\n",
    "            x = self.transforms(image=x)['image']\n",
    "        \n",
    "        x = torch.tensor(x).float().unsqueeze(0)\n",
    "        \n",
    "        \n",
    "        return x, target#torch.tensor(target)"
   ]
  },
  {
   "cell_type": "code",
   "execution_count": 4,
   "metadata": {},
   "outputs": [],
   "source": [
    "#np.random.beta??"
   ]
  },
  {
   "cell_type": "code",
   "execution_count": 5,
   "metadata": {},
   "outputs": [],
   "source": [
    "#np.random.beta(0.4, 0.4)"
   ]
  },
  {
   "cell_type": "code",
   "execution_count": 6,
   "metadata": {},
   "outputs": [],
   "source": [
    "#nn.functional.one_hot(lbls[0])"
   ]
  },
  {
   "cell_type": "code",
   "execution_count": 7,
   "metadata": {},
   "outputs": [],
   "source": [
    "#nn.functional.one_hot(torch.stack(lbls))"
   ]
  },
  {
   "cell_type": "code",
   "execution_count": 8,
   "metadata": {},
   "outputs": [],
   "source": [
    "#lbls = []\n",
    "#for x in range(10):\n",
    "#    lbls.append(t_ds[x][1])\n",
    "#lbls"
   ]
  },
  {
   "cell_type": "code",
   "execution_count": 9,
   "metadata": {},
   "outputs": [],
   "source": [
    "#torch.stack(lbls)"
   ]
  },
  {
   "cell_type": "code",
   "execution_count": 9,
   "metadata": {},
   "outputs": [],
   "source": [
    "def get_tfms(train_sz, val_sz):\n",
    "    train_tfm = A.Compose([\n",
    "            A.Resize(512,512),\n",
    "            A.HorizontalFlip(p=0.5),\n",
    "            A.VerticalFlip(p=0.5),\n",
    "            A.RandomResizedCrop(train_sz,train_sz)\n",
    "        ])\n",
    "\n",
    "    valid_tfm = A.Compose([\n",
    "            A.Resize(val_sz,val_sz),\n",
    "        ])\n",
    "    return train_tfm, valid_tfm"
   ]
  },
  {
   "cell_type": "code",
   "execution_count": 11,
   "metadata": {},
   "outputs": [],
   "source": [
    "train_tfm, valid_tfm = get_tfms(256, 448)"
   ]
  },
  {
   "cell_type": "code",
   "execution_count": 13,
   "metadata": {},
   "outputs": [],
   "source": [
    "def get_dls(train_sz, val_sz, bs):\n",
    "    train_tfm, val_tfm = get_tfms(train_sz, val_sz)\n",
    "    t_ds = SetiDS(t_df, train_tfm)\n",
    "    v_ds = SetiDS(v_df, valid_tfm)\n",
    "    train_dl = DataLoader(t_ds, batch_size=bs,\n",
    "                     num_workers=8)\n",
    "    valid_dl = DataLoader(v_ds, batch_size=bs,\n",
    "                     num_workers=8)\n",
    "\n",
    "    dls = DataLoaders(train_dl, valid_dl)\n",
    "    return dls"
   ]
  },
  {
   "cell_type": "code",
   "execution_count": 16,
   "metadata": {},
   "outputs": [],
   "source": [
    "dls = get_dls(256, 448, 128)"
   ]
  },
  {
   "cell_type": "markdown",
   "metadata": {},
   "source": [
    "Uncomment the lines below to confirm that our dataloaders are returning the desired/expected tensor sizes for our model"
   ]
  },
  {
   "cell_type": "code",
   "execution_count": 21,
   "metadata": {},
   "outputs": [
    {
     "data": {
      "text/plain": [
       "(torch.Size([128, 1, 256, 256]), torch.Size([128]))"
      ]
     },
     "execution_count": 21,
     "metadata": {},
     "output_type": "execute_result"
    }
   ],
   "source": [
    "batch = next(iter(dls.train))\n",
    "batch[0].shape, batch[1].shape"
   ]
  },
  {
   "cell_type": "markdown",
   "metadata": {},
   "source": [
    "We are quite literally mixing pixels from one image onto the other - the plot function below helps ellucidate this. Play around with the index values and alpha to see how it works"
   ]
  },
  {
   "cell_type": "code",
   "execution_count": 88,
   "metadata": {},
   "outputs": [],
   "source": [
    "def plot_mixup(batch, idx1, idx2, alpha):\n",
    "    x1, x2 = batch[0][idx1], batch[0][idx2] \n",
    "    x3 = (alpha*x1) + ((1-alpha)*x2)\n",
    "    y1, y2 = batch[1][idx1], batch[1][idx2] \n",
    "    y3 = (alpha*y1) + ((1-alpha)*y2)\n",
    "    fig, (ax1, ax2, ax3) = plt.subplots(1,3)\n",
    "    ax1.imshow(x1.squeeze(0))\n",
    "    ax1.set_title(f\"label:{batch[1][idx1]}\")\n",
    "    ax2.imshow(x2.squeeze(0))\n",
    "    ax2.set_title(f\"label:{batch[1][idx2]}\")\n",
    "    ax3.imshow(x3.squeeze(0))\n",
    "    ax3.set_title(\"label: {:.2f}\".format(y3))\n",
    "    ax1.set_axis_off(), ax2.set_axis_off(), ax3.set_axis_off()"
   ]
  },
  {
   "cell_type": "code",
   "execution_count": 89,
   "metadata": {},
   "outputs": [
    {
     "data": {
      "image/png": "[encoded data removed]",
      "text/plain": [
       "<Figure size 432x288 with 3 Axes>"
      ]
     },
     "metadata": {
      "needs_background": "light"
     },
     "output_type": "display_data"
    }
   ],
   "source": [
    "plot_mixup(batch, 1, 14, 0.4)"
   ]
  },
  {
   "cell_type": "code",
   "execution_count": 90,
   "metadata": {},
   "outputs": [],
   "source": [
    "def roc_auc(preds,targ):\n",
    "    try: return roc_auc_score(targ.cpu(),preds.squeeze().cpu())\n",
    "    except: return 0.5"
   ]
  },
  {
   "cell_type": "markdown",
   "metadata": {},
   "source": [
    "Let's use callbacks to implement mixup -- we're not using all of the features mentioned in the paper  vers"
   ]
  },
  {
   "cell_type": "code",
   "execution_count": 94,
   "metadata": {},
   "outputs": [],
   "source": [
    "class Mixup(Callback):\n",
    "    def __init__(self, alpha=0.2):\n",
    "        self.alpha = np.random.beta(alpha, alpha)\n",
    "    def before_batch(self):\n",
    "        if self.training:\n",
    "            idxs = torch.randperm(self.learn.x.shape[0])\n",
    "            mix_x = self.learn.x[idxs, :] * (1 - self.alpha)\n",
    "            mix_y = self.learn.y[idxs] * (1 - self.alpha)\n",
    "            self.learn.xb = tuple([mix_x + self.learn.x * self.alpha])\n",
    "            self.learn.yb = tuple( [mix_y + self.learn.y * self.alpha] )"
   ]
  },
  {
   "cell_type": "code",
   "execution_count": 95,
   "metadata": {},
   "outputs": [],
   "source": [
    "def get_learner(dls, arch):\n",
    "    return timm_learner(dls, arch, pretrained=True,\n",
    "                     n_in=1,n_out=1, metrics=[roc_auc], \n",
    "                     opt_func=ranger,\n",
    "                     loss_func=BCEWithLogitsLossFlat(),\n",
    "                    cbs=[Mixup()]\n",
    "                    ).to_fp16()"
   ]
  },
  {
   "cell_type": "code",
   "execution_count": 97,
   "metadata": {},
   "outputs": [],
   "source": [
    "dls = get_dls(256, 448, 128)\n",
    "learn = get_learner(dls, 'efficientnet_b0')"
   ]
  },
  {
   "cell_type": "code",
   "execution_count": 98,
   "metadata": {},
   "outputs": [
    {
     "data": {
      "text/html": [],
      "text/plain": [
       "<IPython.core.display.HTML object>"
      ]
     },
     "metadata": {},
     "output_type": "display_data"
    },
    {
     "data": {
      "text/plain": [
       "SuggestedLRs(lr_min=0.03630780577659607, lr_steep=0.25118863582611084)"
      ]
     },
     "execution_count": 98,
     "metadata": {},
     "output_type": "execute_result"
    },
    {
     "data": {
      "image/png": "[encoded data removed]",
      "text/plain": [
       "<Figure size 432x288 with 1 Axes>"
      ]
     },
     "metadata": {
      "needs_background": "light"
     },
     "output_type": "display_data"
    }
   ],
   "source": [
    "learn.lr_find()"
   ]
  },
  {
   "cell_type": "code",
   "execution_count": 99,
   "metadata": {},
   "outputs": [
    {
     "data": {
      "text/html": [
       "<table border=\"1\" class=\"dataframe\">\n",
       "  <thead>\n",
       "    <tr style=\"text-align: left;\">\n",
       "      <th>epoch</th>\n",
       "      <th>train_loss</th>\n",
       "      <th>valid_loss</th>\n",
       "      <th>roc_auc</th>\n",
       "      <th>time</th>\n",
       "    </tr>\n",
       "  </thead>\n",
       "  <tbody>\n",
       "    <tr>\n",
       "      <td>0</td>\n",
       "      <td>0.181550</td>\n",
       "      <td>0.110506</td>\n",
       "      <td>0.951297</td>\n",
       "      <td>01:01</td>\n",
       "    </tr>\n",
       "  </tbody>\n",
       "</table>"
      ],
      "text/plain": [
       "<IPython.core.display.HTML object>"
      ]
     },
     "metadata": {},
     "output_type": "display_data"
    }
   ],
   "source": [
    "learn.fit_flat_cos(1, 7e-2, wd=0.025)"
   ]
  },
  {
   "cell_type": "code",
   "execution_count": 100,
   "metadata": {},
   "outputs": [
    {
     "data": {
      "text/plain": [
       "Path('models/effb0-initial.pth')"
      ]
     },
     "execution_count": 100,
     "metadata": {},
     "output_type": "execute_result"
    }
   ],
   "source": [
    "learn.save('effb0-initial')"
   ]
  },
  {
   "cell_type": "code",
   "execution_count": 101,
   "metadata": {},
   "outputs": [
    {
     "data": {
      "text/html": [],
      "text/plain": [
       "<IPython.core.display.HTML object>"
      ]
     },
     "metadata": {},
     "output_type": "display_data"
    },
    {
     "data": {
      "text/plain": [
       "SuggestedLRs(lr_min=8.317637839354575e-05, lr_steep=3.981071586167673e-06)"
      ]
     },
     "execution_count": 101,
     "metadata": {},
     "output_type": "execute_result"
    },
    {
     "data": {
      "image/png": "[encoded data removed]",
      "text/plain": [
       "<Figure size 432x288 with 1 Axes>"
      ]
     },
     "metadata": {
      "needs_background": "light"
     },
     "output_type": "display_data"
    }
   ],
   "source": [
    "learn.unfreeze()\n",
    "learn.lr_find()"
   ]
  },
  {
   "cell_type": "markdown",
   "metadata": {},
   "source": [
    "We'll use a lower learning rate AND crank up the weight decay here, in the hopes of helping our model avoid overfitting"
   ]
  },
  {
   "cell_type": "code",
   "execution_count": 102,
   "metadata": {},
   "outputs": [
    {
     "data": {
      "text/html": [
       "<table border=\"1\" class=\"dataframe\">\n",
       "  <thead>\n",
       "    <tr style=\"text-align: left;\">\n",
       "      <th>epoch</th>\n",
       "      <th>train_loss</th>\n",
       "      <th>valid_loss</th>\n",
       "      <th>roc_auc</th>\n",
       "      <th>time</th>\n",
       "    </tr>\n",
       "  </thead>\n",
       "  <tbody>\n",
       "    <tr>\n",
       "      <td>0</td>\n",
       "      <td>0.139794</td>\n",
       "      <td>0.084254</td>\n",
       "      <td>0.966104</td>\n",
       "      <td>01:19</td>\n",
       "    </tr>\n",
       "    <tr>\n",
       "      <td>1</td>\n",
       "      <td>0.133327</td>\n",
       "      <td>0.073280</td>\n",
       "      <td>0.972873</td>\n",
       "      <td>01:19</td>\n",
       "    </tr>\n",
       "    <tr>\n",
       "      <td>2</td>\n",
       "      <td>0.118523</td>\n",
       "      <td>0.066495</td>\n",
       "      <td>0.974382</td>\n",
       "      <td>01:19</td>\n",
       "    </tr>\n",
       "    <tr>\n",
       "      <td>3</td>\n",
       "      <td>0.115649</td>\n",
       "      <td>0.066250</td>\n",
       "      <td>0.975744</td>\n",
       "      <td>01:19</td>\n",
       "    </tr>\n",
       "    <tr>\n",
       "      <td>4</td>\n",
       "      <td>0.114512</td>\n",
       "      <td>0.065188</td>\n",
       "      <td>0.973405</td>\n",
       "      <td>01:19</td>\n",
       "    </tr>\n",
       "    <tr>\n",
       "      <td>5</td>\n",
       "      <td>0.113992</td>\n",
       "      <td>0.062272</td>\n",
       "      <td>0.975418</td>\n",
       "      <td>01:19</td>\n",
       "    </tr>\n",
       "    <tr>\n",
       "      <td>6</td>\n",
       "      <td>0.109581</td>\n",
       "      <td>0.055366</td>\n",
       "      <td>0.979111</td>\n",
       "      <td>01:19</td>\n",
       "    </tr>\n",
       "    <tr>\n",
       "      <td>7</td>\n",
       "      <td>0.104907</td>\n",
       "      <td>0.059815</td>\n",
       "      <td>0.974517</td>\n",
       "      <td>01:19</td>\n",
       "    </tr>\n",
       "    <tr>\n",
       "      <td>8</td>\n",
       "      <td>0.100802</td>\n",
       "      <td>0.053745</td>\n",
       "      <td>0.978651</td>\n",
       "      <td>01:19</td>\n",
       "    </tr>\n",
       "    <tr>\n",
       "      <td>9</td>\n",
       "      <td>0.099325</td>\n",
       "      <td>0.054884</td>\n",
       "      <td>0.978309</td>\n",
       "      <td>01:19</td>\n",
       "    </tr>\n",
       "  </tbody>\n",
       "</table>"
      ],
      "text/plain": [
       "<IPython.core.display.HTML object>"
      ]
     },
     "metadata": {},
     "output_type": "display_data"
    },
    {
     "name": "stdout",
     "output_type": "stream",
     "text": [
      "Better model found at epoch 0 with valid_loss value: 0.08425429463386536.\n",
      "Better model found at epoch 1 with valid_loss value: 0.07328017801046371.\n",
      "Better model found at epoch 2 with valid_loss value: 0.06649549305438995.\n",
      "Better model found at epoch 3 with valid_loss value: 0.06625036150217056.\n",
      "Better model found at epoch 4 with valid_loss value: 0.06518799811601639.\n",
      "Better model found at epoch 5 with valid_loss value: 0.06227235496044159.\n",
      "Better model found at epoch 6 with valid_loss value: 0.05536572262644768.\n",
      "Epoch 7: reducing lr to 2.7166593263094474e-05\n",
      "Better model found at epoch 8 with valid_loss value: 0.053744539618492126.\n",
      "Epoch 9: reducing lr to 3.9505435658350985e-10\n"
     ]
    },
    {
     "data": {
      "text/plain": [
       "Path('models/effb0-small.pth')"
      ]
     },
     "execution_count": 102,
     "metadata": {},
     "output_type": "execute_result"
    }
   ],
   "source": [
    "#learn = learn.load('effb0-initial')\n",
    "#learn.unfreeze()\n",
    "learn.fit_flat_cos(10, 3e-4, wd=0.125, cbs=[ReduceLROnPlateau(),\n",
    "                                              SaveModelCallback()])\n",
    "learn.save('effb0-small')"
   ]
  },
  {
   "cell_type": "code",
   "execution_count": 117,
   "metadata": {},
   "outputs": [],
   "source": [
    "dls = get_dls(448, 448, 64)\n",
    "dls.to('cuda')\n",
    "learn = get_learner(dls, 'efficientnet_b0')\n",
    "learn = learn.load('effb0-small')\n",
    "learn.model.to('cuda');\n",
    "#learn.lr_find()"
   ]
  },
  {
   "cell_type": "code",
   "execution_count": 118,
   "metadata": {},
   "outputs": [
    {
     "data": {
      "text/html": [],
      "text/plain": [
       "<IPython.core.display.HTML object>"
      ]
     },
     "metadata": {},
     "output_type": "display_data"
    },
    {
     "data": {
      "text/plain": [
       "SuggestedLRs(lr_min=0.00831763744354248, lr_steep=7.585775847473997e-07)"
      ]
     },
     "execution_count": 118,
     "metadata": {},
     "output_type": "execute_result"
    },
    {
     "data": {
      "image/png": "[encoded data removed]",
      "text/plain": [
       "<Figure size 432x288 with 1 Axes>"
      ]
     },
     "metadata": {
      "needs_background": "light"
     },
     "output_type": "display_data"
    }
   ],
   "source": [
    "learn.lr_find()"
   ]
  },
  {
   "cell_type": "code",
   "execution_count": 119,
   "metadata": {},
   "outputs": [
    {
     "data": {
      "text/html": [
       "<table border=\"1\" class=\"dataframe\">\n",
       "  <thead>\n",
       "    <tr style=\"text-align: left;\">\n",
       "      <th>epoch</th>\n",
       "      <th>train_loss</th>\n",
       "      <th>valid_loss</th>\n",
       "      <th>roc_auc</th>\n",
       "      <th>time</th>\n",
       "    </tr>\n",
       "  </thead>\n",
       "  <tbody>\n",
       "    <tr>\n",
       "      <td>0</td>\n",
       "      <td>0.105924</td>\n",
       "      <td>0.058019</td>\n",
       "      <td>0.978403</td>\n",
       "      <td>02:28</td>\n",
       "    </tr>\n",
       "  </tbody>\n",
       "</table>"
      ],
      "text/plain": [
       "<IPython.core.display.HTML object>"
      ]
     },
     "metadata": {},
     "output_type": "display_data"
    }
   ],
   "source": [
    "learn.fit_flat_cos(1, 3e-2, wd=0.025)"
   ]
  },
  {
   "cell_type": "code",
   "execution_count": 120,
   "metadata": {},
   "outputs": [
    {
     "data": {
      "text/plain": [
       "Path('models/effb0-big-initial.pth')"
      ]
     },
     "execution_count": 120,
     "metadata": {},
     "output_type": "execute_result"
    }
   ],
   "source": [
    "learn.save('effb0-big-initial')"
   ]
  },
  {
   "cell_type": "code",
   "execution_count": 124,
   "metadata": {},
   "outputs": [],
   "source": [
    "learn.load('effb0-big-initial');"
   ]
  },
  {
   "cell_type": "code",
   "execution_count": 125,
   "metadata": {},
   "outputs": [
    {
     "data": {
      "text/html": [],
      "text/plain": [
       "<IPython.core.display.HTML object>"
      ]
     },
     "metadata": {},
     "output_type": "display_data"
    },
    {
     "data": {
      "text/plain": [
       "SuggestedLRs(lr_min=1.9054607491852948e-07, lr_steep=7.585775847473997e-07)"
      ]
     },
     "execution_count": 125,
     "metadata": {},
     "output_type": "execute_result"
    },
    {
     "data": {
      "image/png": "[encoded data removed]",
      "text/plain": [
       "<Figure size 432x288 with 1 Axes>"
      ]
     },
     "metadata": {
      "needs_background": "light"
     },
     "output_type": "display_data"
    }
   ],
   "source": [
    "learn.unfreeze()\n",
    "learn.lr_find()"
   ]
  },
  {
   "cell_type": "code",
   "execution_count": 126,
   "metadata": {},
   "outputs": [
    {
     "data": {
      "text/html": [
       "<table border=\"1\" class=\"dataframe\">\n",
       "  <thead>\n",
       "    <tr style=\"text-align: left;\">\n",
       "      <th>epoch</th>\n",
       "      <th>train_loss</th>\n",
       "      <th>valid_loss</th>\n",
       "      <th>roc_auc</th>\n",
       "      <th>time</th>\n",
       "    </tr>\n",
       "  </thead>\n",
       "  <tbody>\n",
       "    <tr>\n",
       "      <td>0</td>\n",
       "      <td>0.094688</td>\n",
       "      <td>0.059738</td>\n",
       "      <td>0.978401</td>\n",
       "      <td>03:26</td>\n",
       "    </tr>\n",
       "    <tr>\n",
       "      <td>1</td>\n",
       "      <td>0.103327</td>\n",
       "      <td>0.058374</td>\n",
       "      <td>0.978518</td>\n",
       "      <td>03:26</td>\n",
       "    </tr>\n",
       "    <tr>\n",
       "      <td>2</td>\n",
       "      <td>0.103108</td>\n",
       "      <td>0.059182</td>\n",
       "      <td>0.978716</td>\n",
       "      <td>03:25</td>\n",
       "    </tr>\n",
       "    <tr>\n",
       "      <td>3</td>\n",
       "      <td>0.100181</td>\n",
       "      <td>0.058098</td>\n",
       "      <td>0.978904</td>\n",
       "      <td>03:25</td>\n",
       "    </tr>\n",
       "    <tr>\n",
       "      <td>4</td>\n",
       "      <td>0.102910</td>\n",
       "      <td>0.056842</td>\n",
       "      <td>0.979559</td>\n",
       "      <td>03:25</td>\n",
       "    </tr>\n",
       "    <tr>\n",
       "      <td>5</td>\n",
       "      <td>0.104569</td>\n",
       "      <td>0.055878</td>\n",
       "      <td>0.980490</td>\n",
       "      <td>03:25</td>\n",
       "    </tr>\n",
       "    <tr>\n",
       "      <td>6</td>\n",
       "      <td>0.098190</td>\n",
       "      <td>0.054777</td>\n",
       "      <td>0.981539</td>\n",
       "      <td>03:25</td>\n",
       "    </tr>\n",
       "    <tr>\n",
       "      <td>7</td>\n",
       "      <td>0.098027</td>\n",
       "      <td>0.052779</td>\n",
       "      <td>0.981738</td>\n",
       "      <td>03:25</td>\n",
       "    </tr>\n",
       "    <tr>\n",
       "      <td>8</td>\n",
       "      <td>0.095204</td>\n",
       "      <td>0.052947</td>\n",
       "      <td>0.981942</td>\n",
       "      <td>03:25</td>\n",
       "    </tr>\n",
       "    <tr>\n",
       "      <td>9</td>\n",
       "      <td>0.094254</td>\n",
       "      <td>0.052447</td>\n",
       "      <td>0.982068</td>\n",
       "      <td>03:25</td>\n",
       "    </tr>\n",
       "  </tbody>\n",
       "</table>"
      ],
      "text/plain": [
       "<IPython.core.display.HTML object>"
      ]
     },
     "metadata": {},
     "output_type": "display_data"
    },
    {
     "name": "stdout",
     "output_type": "stream",
     "text": [
      "Better model found at epoch 0 with valid_loss value: 0.0597376823425293.\n",
      "Better model found at epoch 1 with valid_loss value: 0.05837373435497284.\n",
      "Epoch 2: reducing lr to 1.0000000000000002e-06\n",
      "Better model found at epoch 3 with valid_loss value: 0.058098115026950836.\n",
      "Better model found at epoch 4 with valid_loss value: 0.05684191361069679.\n",
      "Better model found at epoch 5 with valid_loss value: 0.05587777495384216.\n",
      "Better model found at epoch 6 with valid_loss value: 0.05477684363722801.\n",
      "Better model found at epoch 7 with valid_loss value: 0.052778761833906174.\n",
      "Epoch 8: reducing lr to 3.4634470359810593e-07\n",
      "Better model found at epoch 9 with valid_loss value: 0.052447106689214706.\n"
     ]
    }
   ],
   "source": [
    "learn.fit_flat_cos(10, 1e-5, wd=0.125, cbs=[ReduceLROnPlateau(),\n",
    "                                              SaveModelCallback()])"
   ]
  },
  {
   "cell_type": "code",
   "execution_count": 127,
   "metadata": {},
   "outputs": [
    {
     "data": {
      "text/plain": [
       "<fastai.learner.Learner at 0x7fd167e66610>"
      ]
     },
     "execution_count": 127,
     "metadata": {},
     "output_type": "execute_result"
    }
   ],
   "source": [
    "learn.to_fp32()"
   ]
  },
  {
   "cell_type": "code",
   "execution_count": 128,
   "metadata": {},
   "outputs": [
    {
     "data": {
      "text/plain": [
       "Path('models/effb0-prog-res.pth')"
      ]
     },
     "execution_count": 128,
     "metadata": {},
     "output_type": "execute_result"
    }
   ],
   "source": [
    "learn.save('effb0-prog-res')"
   ]
  },
  {
   "cell_type": "markdown",
   "metadata": {},
   "source": [
    "In the paper they insist that the labels must be one-hot-encoded. This seems unnecessary here, as shown below"
   ]
  },
  {
   "cell_type": "code",
   "execution_count": 126,
   "metadata": {},
   "outputs": [
    {
     "data": {
      "text/plain": [
       "torch.Size([128, 2])"
      ]
     },
     "execution_count": 126,
     "metadata": {},
     "output_type": "execute_result"
    }
   ],
   "source": [
    "ohe = nn.functional.one_hot(batch[1])\n",
    "ohe.shape"
   ]
  },
  {
   "cell_type": "code",
   "execution_count": 130,
   "metadata": {},
   "outputs": [
    {
     "data": {
      "text/plain": [
       "(tensor([[1, 0],\n",
       "         [0, 1]]),\n",
       " tensor([0.4000, 0.0000]),\n",
       " tensor([0.0000, 0.6000]))"
      ]
     },
     "execution_count": 130,
     "metadata": {},
     "output_type": "execute_result"
    }
   ],
   "source": [
    "ohe[:2], (0.4*ohe[0]), (0.6*ohe[1])"
   ]
  },
  {
   "cell_type": "code",
   "execution_count": 129,
   "metadata": {},
   "outputs": [
    {
     "data": {
      "text/plain": [
       "tensor([0.4000, 0.6000])"
      ]
     },
     "execution_count": 129,
     "metadata": {},
     "output_type": "execute_result"
    }
   ],
   "source": [
    "(0.4 * ohe[0]) + (0.6 * ohe[1])"
   ]
  },
  {
   "cell_type": "code",
   "execution_count": 132,
   "metadata": {},
   "outputs": [
    {
     "data": {
      "text/plain": [
       "tensor([0, 1])"
      ]
     },
     "execution_count": 132,
     "metadata": {},
     "output_type": "execute_result"
    }
   ],
   "source": [
    "batch[1][:2]"
   ]
  },
  {
   "cell_type": "code",
   "execution_count": 133,
   "metadata": {},
   "outputs": [
    {
     "data": {
      "text/plain": [
       "0.6"
      ]
     },
     "execution_count": 133,
     "metadata": {},
     "output_type": "execute_result"
    }
   ],
   "source": [
    "(0.4 * 0) + (0.6 * 1)"
   ]
  },
  {
   "cell_type": "code",
   "execution_count": null,
   "metadata": {},
   "outputs": [],
   "source": []
  },
  {
   "cell_type": "code",
   "execution_count": null,
   "metadata": {},
   "outputs": [],
   "source": []
  }
 ],
 "metadata": {
  "kernelspec": {
   "display_name": "Python 3",
   "language": "python",
   "name": "python3"
  },
  "language_info": {
   "codemirror_mode": {
    "name": "ipython",
    "version": 3
   },
   "file_extension": ".py",
   "mimetype": "text/x-python",
   "name": "python",
   "nbconvert_exporter": "python",
   "pygments_lexer": "ipython3",
   "version": "3.8.5"
  }
 },
 "nbformat": 4,
 "nbformat_minor": 4
}
