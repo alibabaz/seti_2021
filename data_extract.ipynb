{
 "cells": [
  {
   "cell_type": "code",
   "execution_count": 1,
   "id": "incredible-campus",
   "metadata": {},
   "outputs": [],
   "source": [
    "from fastai.vision.all import *"
   ]
  },
  {
   "cell_type": "code",
   "execution_count": 2,
   "id": "rational-ethics",
   "metadata": {},
   "outputs": [
    {
     "data": {
      "text/plain": [
       "(#3) [Path('seti-breakthrough-listen.zip'),Path('.ipynb_checkpoints'),Path('data_extract.ipynb')]"
      ]
     },
     "execution_count": 2,
     "metadata": {},
     "output_type": "execute_result"
    }
   ],
   "source": [
    "path = Path('/home/azaidi/Desktop/kaggle/seti')\n",
    "Path.BASE_PATH = path\n",
    "path.ls()"
   ]
  },
  {
   "cell_type": "code",
   "execution_count": 4,
   "id": "frank-worthy",
   "metadata": {},
   "outputs": [
    {
     "name": "stdout",
     "output_type": "stream",
     "text": [
      "Warning: Your Kaggle API key is readable by other users on this system! To fix this, you can run 'chmod 600 /home/azaidi/.kaggle/kaggle.json'\n",
      "Downloading seti-breakthrough-listen.zip to /home/azaidi/Desktop/kaggle/seti\n",
      "100%|█████████████████████████████████████▉| 60.3G/60.3G [21:03<00:00, 51.6MB/s]\n",
      "100%|██████████████████████████████████████| 60.3G/60.3G [21:03<00:00, 51.2MB/s]\n"
     ]
    }
   ],
   "source": [
    "! kaggle competitions download -c seti-breakthrough-listen -p {path}"
   ]
  },
  {
   "cell_type": "code",
   "execution_count": 5,
   "id": "protected-seven",
   "metadata": {},
   "outputs": [
    {
     "data": {
      "text/plain": [
       "(#3) [Path('seti-breakthrough-listen.zip'),Path('.ipynb_checkpoints'),Path('data_extract.ipynb')]"
      ]
     },
     "execution_count": 5,
     "metadata": {},
     "output_type": "execute_result"
    }
   ],
   "source": [
    "path.ls()"
   ]
  },
  {
   "cell_type": "code",
   "execution_count": 6,
   "id": "typical-battle",
   "metadata": {},
   "outputs": [
    {
     "name": "stdout",
     "output_type": "stream",
     "text": [
      "warning:  cannot set modif./access times for /home/azaidi/Desktop/kaggle/seti/train/c/c375dfbcc72c.npy\n",
      "          No such file or directory\n",
      "warning:  cannot set modif./access times for /home/azaidi/Desktop/kaggle/seti/train/f/\n",
      "          No such file or directory\n",
      "warning:  cannot set permissions for /home/azaidi/Desktop/kaggle/seti/train/f/\n",
      "          No such file or directory\n",
      "warning:  set times/attribs failed for /home/azaidi/Desktop/kaggle/seti/train/f/\n",
      "warning:  cannot set modif./access times for /home/azaidi/Desktop/kaggle/seti/train/e/\n",
      "          No such file or directory\n",
      "warning:  cannot set permissions for /home/azaidi/Desktop/kaggle/seti/train/e/\n",
      "          No such file or directory\n",
      "warning:  set times/attribs failed for /home/azaidi/Desktop/kaggle/seti/train/e/\n",
      "warning:  cannot set modif./access times for /home/azaidi/Desktop/kaggle/seti/train/d/\n",
      "          No such file or directory\n",
      "warning:  cannot set permissions for /home/azaidi/Desktop/kaggle/seti/train/d/\n",
      "          No such file or directory\n",
      "warning:  set times/attribs failed for /home/azaidi/Desktop/kaggle/seti/train/d/\n",
      "warning:  cannot set modif./access times for /home/azaidi/Desktop/kaggle/seti/train/b/\n",
      "          No such file or directory\n",
      "warning:  cannot set permissions for /home/azaidi/Desktop/kaggle/seti/train/b/\n",
      "          No such file or directory\n",
      "warning:  set times/attribs failed for /home/azaidi/Desktop/kaggle/seti/train/b/\n",
      "warning:  cannot set modif./access times for /home/azaidi/Desktop/kaggle/seti/train/a/\n",
      "          No such file or directory\n",
      "warning:  cannot set permissions for /home/azaidi/Desktop/kaggle/seti/train/a/\n",
      "          No such file or directory\n",
      "warning:  set times/attribs failed for /home/azaidi/Desktop/kaggle/seti/train/a/\n",
      "warning:  cannot set modif./access times for /home/azaidi/Desktop/kaggle/seti/train/9/\n",
      "          No such file or directory\n",
      "warning:  cannot set permissions for /home/azaidi/Desktop/kaggle/seti/train/9/\n",
      "          No such file or directory\n",
      "warning:  set times/attribs failed for /home/azaidi/Desktop/kaggle/seti/train/9/\n",
      "warning:  cannot set modif./access times for /home/azaidi/Desktop/kaggle/seti/train/8/\n",
      "          No such file or directory\n",
      "warning:  cannot set permissions for /home/azaidi/Desktop/kaggle/seti/train/8/\n",
      "          No such file or directory\n",
      "warning:  set times/attribs failed for /home/azaidi/Desktop/kaggle/seti/train/8/\n",
      "warning:  cannot set modif./access times for /home/azaidi/Desktop/kaggle/seti/train/7/\n",
      "          No such file or directory\n",
      "warning:  cannot set permissions for /home/azaidi/Desktop/kaggle/seti/train/7/\n",
      "          No such file or directory\n",
      "warning:  set times/attribs failed for /home/azaidi/Desktop/kaggle/seti/train/7/\n",
      "warning:  cannot set modif./access times for /home/azaidi/Desktop/kaggle/seti/train/6/\n",
      "          No such file or directory\n",
      "warning:  cannot set permissions for /home/azaidi/Desktop/kaggle/seti/train/6/\n",
      "          No such file or directory\n",
      "warning:  set times/attribs failed for /home/azaidi/Desktop/kaggle/seti/train/6/\n",
      "warning:  cannot set modif./access times for /home/azaidi/Desktop/kaggle/seti/train/5/\n",
      "          No such file or directory\n",
      "warning:  cannot set permissions for /home/azaidi/Desktop/kaggle/seti/train/5/\n",
      "          No such file or directory\n",
      "warning:  set times/attribs failed for /home/azaidi/Desktop/kaggle/seti/train/5/\n",
      "warning:  cannot set modif./access times for /home/azaidi/Desktop/kaggle/seti/train/4/\n",
      "          No such file or directory\n",
      "warning:  cannot set permissions for /home/azaidi/Desktop/kaggle/seti/train/4/\n",
      "          No such file or directory\n",
      "warning:  set times/attribs failed for /home/azaidi/Desktop/kaggle/seti/train/4/\n",
      "warning:  cannot set modif./access times for /home/azaidi/Desktop/kaggle/seti/train/3/\n",
      "          No such file or directory\n",
      "warning:  cannot set permissions for /home/azaidi/Desktop/kaggle/seti/train/3/\n",
      "          No such file or directory\n",
      "warning:  set times/attribs failed for /home/azaidi/Desktop/kaggle/seti/train/3/\n",
      "warning:  cannot set modif./access times for /home/azaidi/Desktop/kaggle/seti/train/2/\n",
      "          No such file or directory\n",
      "warning:  cannot set permissions for /home/azaidi/Desktop/kaggle/seti/train/2/\n",
      "          No such file or directory\n",
      "warning:  set times/attribs failed for /home/azaidi/Desktop/kaggle/seti/train/2/\n",
      "warning:  cannot set modif./access times for /home/azaidi/Desktop/kaggle/seti/train/1/\n",
      "          No such file or directory\n",
      "warning:  cannot set permissions for /home/azaidi/Desktop/kaggle/seti/train/1/\n",
      "          No such file or directory\n",
      "warning:  set times/attribs failed for /home/azaidi/Desktop/kaggle/seti/train/1/\n",
      "warning:  cannot set modif./access times for /home/azaidi/Desktop/kaggle/seti/train/0/\n",
      "          No such file or directory\n",
      "warning:  cannot set permissions for /home/azaidi/Desktop/kaggle/seti/train/0/\n",
      "          No such file or directory\n",
      "warning:  set times/attribs failed for /home/azaidi/Desktop/kaggle/seti/train/0/\n",
      "warning:  cannot set modif./access times for /home/azaidi/Desktop/kaggle/seti/test/f/\n",
      "          No such file or directory\n",
      "warning:  cannot set permissions for /home/azaidi/Desktop/kaggle/seti/test/f/\n",
      "          No such file or directory\n",
      "warning:  set times/attribs failed for /home/azaidi/Desktop/kaggle/seti/test/f/\n",
      "warning:  cannot set modif./access times for /home/azaidi/Desktop/kaggle/seti/test/e/\n",
      "          No such file or directory\n",
      "warning:  cannot set permissions for /home/azaidi/Desktop/kaggle/seti/test/e/\n",
      "          No such file or directory\n",
      "warning:  set times/attribs failed for /home/azaidi/Desktop/kaggle/seti/test/e/\n",
      "warning:  cannot set modif./access times for /home/azaidi/Desktop/kaggle/seti/test/d/\n",
      "          No such file or directory\n",
      "warning:  cannot set permissions for /home/azaidi/Desktop/kaggle/seti/test/d/\n",
      "          No such file or directory\n",
      "warning:  set times/attribs failed for /home/azaidi/Desktop/kaggle/seti/test/d/\n",
      "warning:  cannot set modif./access times for /home/azaidi/Desktop/kaggle/seti/test/c/\n",
      "          No such file or directory\n",
      "warning:  cannot set permissions for /home/azaidi/Desktop/kaggle/seti/test/c/\n",
      "          No such file or directory\n",
      "warning:  set times/attribs failed for /home/azaidi/Desktop/kaggle/seti/test/c/\n",
      "warning:  cannot set modif./access times for /home/azaidi/Desktop/kaggle/seti/test/b/\n",
      "          No such file or directory\n",
      "warning:  cannot set permissions for /home/azaidi/Desktop/kaggle/seti/test/b/\n",
      "          No such file or directory\n",
      "warning:  set times/attribs failed for /home/azaidi/Desktop/kaggle/seti/test/b/\n",
      "warning:  cannot set modif./access times for /home/azaidi/Desktop/kaggle/seti/test/a/\n",
      "          No such file or directory\n",
      "warning:  cannot set permissions for /home/azaidi/Desktop/kaggle/seti/test/a/\n",
      "          No such file or directory\n",
      "warning:  set times/attribs failed for /home/azaidi/Desktop/kaggle/seti/test/a/\n",
      "warning:  cannot set modif./access times for /home/azaidi/Desktop/kaggle/seti/test/9/\n",
      "          No such file or directory\n",
      "warning:  cannot set permissions for /home/azaidi/Desktop/kaggle/seti/test/9/\n",
      "          No such file or directory\n",
      "warning:  set times/attribs failed for /home/azaidi/Desktop/kaggle/seti/test/9/\n",
      "warning:  cannot set modif./access times for /home/azaidi/Desktop/kaggle/seti/test/8/\n",
      "          No such file or directory\n",
      "warning:  cannot set permissions for /home/azaidi/Desktop/kaggle/seti/test/8/\n",
      "          No such file or directory\n",
      "warning:  set times/attribs failed for /home/azaidi/Desktop/kaggle/seti/test/8/\n",
      "warning:  cannot set modif./access times for /home/azaidi/Desktop/kaggle/seti/test/7/\n",
      "          No such file or directory\n",
      "warning:  cannot set permissions for /home/azaidi/Desktop/kaggle/seti/test/7/\n",
      "          No such file or directory\n",
      "warning:  set times/attribs failed for /home/azaidi/Desktop/kaggle/seti/test/7/\n",
      "warning:  cannot set modif./access times for /home/azaidi/Desktop/kaggle/seti/test/6/\n",
      "          No such file or directory\n",
      "warning:  cannot set permissions for /home/azaidi/Desktop/kaggle/seti/test/6/\n",
      "          No such file or directory\n",
      "warning:  set times/attribs failed for /home/azaidi/Desktop/kaggle/seti/test/6/\n",
      "warning:  cannot set modif./access times for /home/azaidi/Desktop/kaggle/seti/test/5/\n",
      "          No such file or directory\n",
      "warning:  cannot set permissions for /home/azaidi/Desktop/kaggle/seti/test/5/\n",
      "          No such file or directory\n",
      "warning:  set times/attribs failed for /home/azaidi/Desktop/kaggle/seti/test/5/\n",
      "warning:  cannot set modif./access times for /home/azaidi/Desktop/kaggle/seti/test/4/\n",
      "          No such file or directory\n",
      "warning:  cannot set permissions for /home/azaidi/Desktop/kaggle/seti/test/4/\n",
      "          No such file or directory\n",
      "warning:  set times/attribs failed for /home/azaidi/Desktop/kaggle/seti/test/4/\n",
      "warning:  cannot set modif./access times for /home/azaidi/Desktop/kaggle/seti/test/3/\n",
      "          No such file or directory\n",
      "warning:  cannot set permissions for /home/azaidi/Desktop/kaggle/seti/test/3/\n",
      "          No such file or directory\n",
      "warning:  set times/attribs failed for /home/azaidi/Desktop/kaggle/seti/test/3/\n",
      "warning:  cannot set modif./access times for /home/azaidi/Desktop/kaggle/seti/test/2/\n",
      "          No such file or directory\n",
      "warning:  cannot set permissions for /home/azaidi/Desktop/kaggle/seti/test/2/\n",
      "          No such file or directory\n",
      "warning:  set times/attribs failed for /home/azaidi/Desktop/kaggle/seti/test/2/\n",
      "warning:  cannot set modif./access times for /home/azaidi/Desktop/kaggle/seti/test/1/\n",
      "          No such file or directory\n",
      "warning:  cannot set permissions for /home/azaidi/Desktop/kaggle/seti/test/1/\n",
      "          No such file or directory\n",
      "warning:  set times/attribs failed for /home/azaidi/Desktop/kaggle/seti/test/1/\n",
      "warning:  cannot set modif./access times for /home/azaidi/Desktop/kaggle/seti/test/0/\n",
      "          No such file or directory\n",
      "warning:  cannot set permissions for /home/azaidi/Desktop/kaggle/seti/test/0/\n",
      "          No such file or directory\n",
      "warning:  set times/attribs failed for /home/azaidi/Desktop/kaggle/seti/test/0/\n",
      "warning:  cannot set modif./access times for /home/azaidi/Desktop/kaggle/seti/test/\n",
      "          No such file or directory\n",
      "warning:  cannot set permissions for /home/azaidi/Desktop/kaggle/seti/test/\n",
      "          No such file or directory\n",
      "warning:  set times/attribs failed for /home/azaidi/Desktop/kaggle/seti/test/\n"
     ]
    }
   ],
   "source": [
    "! unzip -q -n {path}/seti-breakthrough-listen.zip -d {path}"
   ]
  },
  {
   "cell_type": "code",
   "execution_count": null,
   "id": "cross-muslim",
   "metadata": {},
   "outputs": [],
   "source": []
  }
 ],
 "metadata": {
  "kernelspec": {
   "display_name": "Python 3",
   "language": "python",
   "name": "python3"
  },
  "language_info": {
   "codemirror_mode": {
    "name": "ipython",
    "version": 3
   },
   "file_extension": ".py",
   "mimetype": "text/x-python",
   "name": "python",
   "nbconvert_exporter": "python",
   "pygments_lexer": "ipython3",
   "version": "3.8.8"
  }
 },
 "nbformat": 4,
 "nbformat_minor": 5
}
